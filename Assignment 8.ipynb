{
 "cells": [
  {
   "cell_type": "markdown",
   "id": "7203e971",
   "metadata": {},
   "source": [
    "#### Assignment - 8 "
   ]
  },
  {
   "cell_type": "markdown",
   "id": "b29b4fba",
   "metadata": {},
   "source": [
    "#### 1.In Python, what is the difference between a built-in function and a user-defined function? Provide an example of each."
   ]
  },
  {
   "cell_type": "markdown",
   "id": "8417c3b0",
   "metadata": {},
   "source": [
    "#### Answer:\n",
    "\n",
    "#### Built-in Functions:\n",
    "\n",
    "-  They are pre-defined functions which can be used anytime.\n",
    "-  eg: len() , type() etc.\n",
    "\n",
    "\n",
    "#### user-defined Functions:\n",
    "\n",
    "- They are functions that are defined by the programmer.\n",
    "- eg: def add(a,b):\n",
    "          return a+b"
   ]
  },
  {
   "cell_type": "markdown",
   "id": "ebfd0301",
   "metadata": {},
   "source": [
    "#### 2. How can you pass arguments to a function in Python? Explain the difference between positional arguments and keyword arguments."
   ]
  },
  {
   "cell_type": "markdown",
   "id": "0b2688ad",
   "metadata": {},
   "source": [
    "#### Answer:\n",
    "\n",
    "- Arguments are specified after the function name ,inside the parenthesis. \n",
    "- You can add as many arguments as you want, just separate them with a comma.\n",
    "\n",
    "#### Keyword Arguments\n",
    "\n",
    "- During the function call,parameter names are used to pass the arguments.\n",
    "- eg: FunctionName(parameter_name=Value)\n",
    "    \n",
    "    \n",
    "#### Positional Arguments\n",
    "- During the function call,arguments are passed in the order of parameters defined in the function declaration.\n",
    "- eg: FunctionName(value1,value2,value3)"
   ]
  },
  {
   "cell_type": "markdown",
   "id": "253df666",
   "metadata": {},
   "source": [
    "#### 3. What is the purpose of the return statement in a function? Can a function have multiple return statements? Explain with an example."
   ]
  },
  {
   "cell_type": "markdown",
   "id": "ea8e41af",
   "metadata": {},
   "source": [
    "#### Answer:\n",
    "\n",
    "- A return statement, ends the function call and returns result to the caller."
   ]
  },
  {
   "cell_type": "code",
   "execution_count": 5,
   "id": "c5d8fcb1",
   "metadata": {},
   "outputs": [],
   "source": [
    "def checkAge(age):\n",
    "    if age<18:\n",
    "        return 'Not Eligible to Vote'\n",
    "    else:\n",
    "        return 'Eligible to vote'\n"
   ]
  },
  {
   "cell_type": "code",
   "execution_count": 6,
   "id": "1133ba04",
   "metadata": {},
   "outputs": [
    {
     "name": "stdout",
     "output_type": "stream",
     "text": [
      "Enter age:18\n"
     ]
    },
    {
     "data": {
      "text/plain": [
       "'Eligible to vote'"
      ]
     },
     "execution_count": 6,
     "metadata": {},
     "output_type": "execute_result"
    }
   ],
   "source": [
    "age=int(input('Enter age:'))\n",
    "checkAge(age)"
   ]
  },
  {
   "cell_type": "markdown",
   "id": "651e2299",
   "metadata": {},
   "source": [
    "#### 4.What are lambda functions in Python? How are they different from regular functions? Provide an example where a lambda function can be useful."
   ]
  },
  {
   "cell_type": "markdown",
   "id": "a78ef59e",
   "metadata": {},
   "source": [
    "#### Answer:\n",
    "\n",
    "- A lambda function is an anonymous function (i.e defined without a name) that can take any number of arguments but, unlike normal functions, evaluates and returns only one expression.\n",
    "\n",
    "- normal functions are defined by using the 'def' keyword.\n",
    "- lambda functions are defined by using the 'lambda' keyword.\n",
    "\n",
    "- When working with iterables( strings,list, dictionary,tuples and so on), you can use lambda function in conjunction with two functions: map() , filter()"
   ]
  },
  {
   "cell_type": "code",
   "execution_count": 7,
   "id": "30b17512",
   "metadata": {},
   "outputs": [],
   "source": [
    "cal_square=lambda n:n*n"
   ]
  },
  {
   "cell_type": "code",
   "execution_count": 9,
   "id": "b87cb920",
   "metadata": {},
   "outputs": [
    {
     "data": {
      "text/plain": [
       "[1, 4, 9, 16, 25]"
      ]
     },
     "execution_count": 9,
     "metadata": {},
     "output_type": "execute_result"
    }
   ],
   "source": [
    "l=[1,2,3,4,5]\n",
    "list(map(cal_square,l))"
   ]
  },
  {
   "cell_type": "code",
   "execution_count": 10,
   "id": "5d46faa0",
   "metadata": {},
   "outputs": [],
   "source": [
    "en=lambda n:n%2==0"
   ]
  },
  {
   "cell_type": "code",
   "execution_count": 11,
   "id": "1b335a77",
   "metadata": {},
   "outputs": [
    {
     "data": {
      "text/plain": [
       "[False, True, False, True, False]"
      ]
     },
     "execution_count": 11,
     "metadata": {},
     "output_type": "execute_result"
    }
   ],
   "source": [
    "list(map(en,l))"
   ]
  },
  {
   "cell_type": "code",
   "execution_count": 12,
   "id": "ba588631",
   "metadata": {},
   "outputs": [
    {
     "data": {
      "text/plain": [
       "[2, 4]"
      ]
     },
     "execution_count": 12,
     "metadata": {},
     "output_type": "execute_result"
    }
   ],
   "source": [
    "list(filter(en,l))"
   ]
  },
  {
   "cell_type": "markdown",
   "id": "6e239ddc",
   "metadata": {},
   "source": [
    "#### 5.How does the concept of \"scope\" apply to functions in Python? Explain the difference between local scope and global scope."
   ]
  },
  {
   "cell_type": "markdown",
   "id": "c11330a2",
   "metadata": {},
   "source": [
    "#### Answer:\n",
    "\n",
    "- A variable scope is basically the lifespan of that variable.\n",
    "- It is the section of code to which a variable is alive.\n",
    "- Depending on their scope, variables are divided into:\n",
    "    - global variables\n",
    "    - local variables\n",
    "    \n",
    "    \n",
    "    \n",
    "#### Difference b/w global scope and local scope\n",
    "\n",
    "#### Global Variables:\n",
    "- Global variables are declared outside the function.\n",
    "- Global variables are created as execution of the program begins and are lost when the program is ended.\n",
    "- It can be accessible through the entire program.\n",
    "\n",
    "#### Local Variables:\n",
    "- Local variables are declared inside the function.\n",
    "- Local variables are created when the function execution starts and are lost when the function execution ends.\n",
    "- It can be accessible within the function that are defined.\n"
   ]
  },
  {
   "cell_type": "markdown",
   "id": "ce443867",
   "metadata": {},
   "source": [
    "#### 6. How can you use the \"return\" statement in a Python function to return multiple values?"
   ]
  },
  {
   "cell_type": "markdown",
   "id": "418a8c0e",
   "metadata": {},
   "source": [
    "#### Answer:\n",
    "- In python, we can return mutiple values by using data structures like list,dictionary,tuple and sets in the return statement."
   ]
  },
  {
   "cell_type": "code",
   "execution_count": 17,
   "id": "93301b51",
   "metadata": {},
   "outputs": [],
   "source": [
    "def arithmetic_func(a,b):\n",
    "    return a+b,a-b,a*b,a/b,a//b,a%b,a**b"
   ]
  },
  {
   "cell_type": "code",
   "execution_count": 18,
   "id": "5ed96738",
   "metadata": {},
   "outputs": [
    {
     "data": {
      "text/plain": [
       "(7, 3, 10, 2.5, 2, 1, 25)"
      ]
     },
     "execution_count": 18,
     "metadata": {},
     "output_type": "execute_result"
    }
   ],
   "source": [
    "arithmetic_func(5,2)"
   ]
  },
  {
   "cell_type": "markdown",
   "id": "28fafcff",
   "metadata": {},
   "source": [
    "#### 7.What is the difference between the \"pass by value\" and \"pass by reference\" concepts when it comes to function arguments in Python?"
   ]
  },
  {
   "cell_type": "markdown",
   "id": "287c49da",
   "metadata": {},
   "source": [
    "#### Answer:\n",
    "\n",
    "#### call by value:\n",
    "\n",
    "- When immutable objects such as whole numbers,strings,tuples are passed as arguments to the function call, then it can be called as call by value.\n",
    "- This is because when the values are modified within the function, then the changes do not get reflected outside the function.\n",
    "\n",
    "#### call by reference:\n",
    "\n",
    "- When mutable objects such as list,dictionary,sets are passed as arguments to the function call, then it can be called as call by reference.\n",
    "- This is because when the values are modified within the function, then the changes gets reflected outside the function."
   ]
  },
  {
   "cell_type": "markdown",
   "id": "3b2adaad",
   "metadata": {},
   "source": [
    "#### 8.Create a function that can intake integer or decimal value and do following operations:\n",
    "#### a. Logarithmic function (log x)\n",
    "#### b. Exponential function (exp(x))\n",
    "#### c. Power function with base 2 (2x)\n",
    "#### d. Square root"
   ]
  },
  {
   "cell_type": "markdown",
   "id": "320a6ce8",
   "metadata": {},
   "source": [
    "#### Answer:"
   ]
  },
  {
   "cell_type": "code",
   "execution_count": 32,
   "id": "0bf48fdf",
   "metadata": {},
   "outputs": [],
   "source": [
    "def f():\n",
    "    import math\n",
    "    a =int(input('Enter number:'))\n",
    "    return {'log':math.log(a),\n",
    "            'exp':math.exp(a),\n",
    "            'power':math.pow(2,a),\n",
    "            'sqrt':math.sqrt(a)           \n",
    "           }"
   ]
  },
  {
   "cell_type": "code",
   "execution_count": 34,
   "id": "4fed76a0",
   "metadata": {},
   "outputs": [
    {
     "name": "stdout",
     "output_type": "stream",
     "text": [
      "Enter number:5\n"
     ]
    },
    {
     "data": {
      "text/plain": [
       "{'log': 1.6094379124341003,\n",
       " 'exp': 148.4131591025766,\n",
       " 'power': 32.0,\n",
       " 'sqrt': 2.23606797749979}"
      ]
     },
     "execution_count": 34,
     "metadata": {},
     "output_type": "execute_result"
    }
   ],
   "source": [
    "f()"
   ]
  },
  {
   "cell_type": "markdown",
   "id": "4f72634c",
   "metadata": {},
   "source": [
    "#### 9.Create a function that takes a full name as an argument and returns first name and last name."
   ]
  },
  {
   "cell_type": "markdown",
   "id": "3f2e95f2",
   "metadata": {},
   "source": [
    "#### Answer:"
   ]
  },
  {
   "cell_type": "code",
   "execution_count": 41,
   "id": "a70ab21e",
   "metadata": {},
   "outputs": [],
   "source": [
    "def name(full_name):\n",
    "    return full_name.split()[0]+' and '+full_name.split()[1]\n",
    "    "
   ]
  },
  {
   "cell_type": "code",
   "execution_count": 42,
   "id": "7d24c2bc",
   "metadata": {},
   "outputs": [
    {
     "data": {
      "text/plain": [
       "'John and Cena'"
      ]
     },
     "execution_count": 42,
     "metadata": {},
     "output_type": "execute_result"
    }
   ],
   "source": [
    "name('John Cena')"
   ]
  }
 ],
 "metadata": {
  "kernelspec": {
   "display_name": "Python 3 (ipykernel)",
   "language": "python",
   "name": "python3"
  },
  "language_info": {
   "codemirror_mode": {
    "name": "ipython",
    "version": 3
   },
   "file_extension": ".py",
   "mimetype": "text/x-python",
   "name": "python",
   "nbconvert_exporter": "python",
   "pygments_lexer": "ipython3",
   "version": "3.10.9"
  }
 },
 "nbformat": 4,
 "nbformat_minor": 5
}
