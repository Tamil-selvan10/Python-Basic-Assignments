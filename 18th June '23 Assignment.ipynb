{
 "cells": [
  {
   "cell_type": "markdown",
   "id": "1c53b0e6",
   "metadata": {},
   "source": [
    "#### Assignments"
   ]
  },
  {
   "cell_type": "markdown",
   "id": "e7444bcd",
   "metadata": {},
   "source": [
    "#### 1.What is the role of the 'else' block in a try-except statement? Provide an example scenario where it would be useful."
   ]
  },
  {
   "cell_type": "markdown",
   "id": "dd5eb7b6",
   "metadata": {},
   "source": [
    "#### Answer:"
   ]
  },
  {
   "cell_type": "code",
   "execution_count": null,
   "id": "884d2f2a",
   "metadata": {},
   "outputs": [],
   "source": [
    "The \"else\" block in a try-except statment is optional and provides a way to specify a block of code that will be executed\n",
    "only if no exceptions are raised in the \"try\" block."
   ]
  },
  {
   "cell_type": "code",
   "execution_count": null,
   "id": "dc2eb6bc",
   "metadata": {},
   "outputs": [],
   "source": [
    "try:\n",
    "    # code that may raise an exception\n",
    "    \n",
    "except:\n",
    "    # code to handle the exception\n",
    "    \n",
    "else:\n",
    "    # code to be executed if no exceptions occured"
   ]
  },
  {
   "cell_type": "markdown",
   "id": "00648053",
   "metadata": {},
   "source": [
    "##### 2.Can a try-except block be nested inside another try-except block? Explain with an example."
   ]
  },
  {
   "cell_type": "markdown",
   "id": "928815e2",
   "metadata": {},
   "source": [
    "##### Answer:"
   ]
  },
  {
   "cell_type": "code",
   "execution_count": null,
   "id": "25165feb",
   "metadata": {},
   "outputs": [],
   "source": [
    "Yes,a try-except block can be nested inside another try-except block."
   ]
  },
  {
   "cell_type": "code",
   "execution_count": 1,
   "id": "de36bcdb",
   "metadata": {},
   "outputs": [],
   "source": [
    "def divide_numbers(a,b):\n",
    "    try:\n",
    "        return a/b\n",
    "        \n",
    "    except Exception as e:\n",
    "        print(type(e).__name__,':',e)"
   ]
  },
  {
   "cell_type": "code",
   "execution_count": 3,
   "id": "949e37be",
   "metadata": {},
   "outputs": [
    {
     "name": "stdout",
     "output_type": "stream",
     "text": [
      "Enter number1: 4\n",
      "Enter number2: 2\n",
      "result:2.0\n"
     ]
    }
   ],
   "source": [
    "try:\n",
    "    num1=int(input('Enter number1: '))\n",
    "    \n",
    "    try:\n",
    "        num2=int(input('Enter number2: '))\n",
    "        print(f'result:{divide_numbers(num1,num2)}')\n",
    "    except Exception as e:\n",
    "        print(type(e).__name__,':',e)\n",
    "    \n",
    "except Exception as e:\n",
    "    print(type(e).__name__,':',e)\n",
    "    "
   ]
  },
  {
   "cell_type": "markdown",
   "id": "90cc9e20",
   "metadata": {},
   "source": [
    "#### 3.How can you create a custom exception class in Python? Provide an example that demonstrates its usage."
   ]
  },
  {
   "cell_type": "markdown",
   "id": "d724e9de",
   "metadata": {},
   "source": [
    "#### Answer:"
   ]
  },
  {
   "cell_type": "code",
   "execution_count": 4,
   "id": "4aa1b687",
   "metadata": {},
   "outputs": [],
   "source": [
    "class NegativeValueError(Exception):\n",
    "    pass"
   ]
  },
  {
   "cell_type": "code",
   "execution_count": 6,
   "id": "70f2fb25",
   "metadata": {},
   "outputs": [],
   "source": [
    "def check(n):\n",
    "    if n<0:\n",
    "        raise NegativeValueError(f'you can\\'t enter negative value {n}')\n",
    "    return 'positive number'\n",
    "        "
   ]
  },
  {
   "cell_type": "code",
   "execution_count": 8,
   "id": "1b36ac63",
   "metadata": {},
   "outputs": [
    {
     "data": {
      "text/plain": [
       "'positive number'"
      ]
     },
     "execution_count": 8,
     "metadata": {},
     "output_type": "execute_result"
    }
   ],
   "source": [
    "check(2)"
   ]
  },
  {
   "cell_type": "code",
   "execution_count": 9,
   "id": "2ff956b7",
   "metadata": {},
   "outputs": [
    {
     "ename": "NegativeValueError",
     "evalue": "you can't enter negative value -1",
     "output_type": "error",
     "traceback": [
      "\u001b[1;31m---------------------------------------------------------------------------\u001b[0m",
      "\u001b[1;31mNegativeValueError\u001b[0m                        Traceback (most recent call last)",
      "Cell \u001b[1;32mIn[9], line 1\u001b[0m\n\u001b[1;32m----> 1\u001b[0m \u001b[43mcheck\u001b[49m\u001b[43m(\u001b[49m\u001b[38;5;241;43m-\u001b[39;49m\u001b[38;5;241;43m1\u001b[39;49m\u001b[43m)\u001b[49m\n",
      "Cell \u001b[1;32mIn[6], line 3\u001b[0m, in \u001b[0;36mcheck\u001b[1;34m(n)\u001b[0m\n\u001b[0;32m      1\u001b[0m \u001b[38;5;28;01mdef\u001b[39;00m \u001b[38;5;21mcheck\u001b[39m(n):\n\u001b[0;32m      2\u001b[0m     \u001b[38;5;28;01mif\u001b[39;00m n\u001b[38;5;241m<\u001b[39m\u001b[38;5;241m0\u001b[39m:\n\u001b[1;32m----> 3\u001b[0m         \u001b[38;5;28;01mraise\u001b[39;00m NegativeValueError(\u001b[38;5;124mf\u001b[39m\u001b[38;5;124m'\u001b[39m\u001b[38;5;124myou can\u001b[39m\u001b[38;5;130;01m\\'\u001b[39;00m\u001b[38;5;124mt enter negative value \u001b[39m\u001b[38;5;132;01m{\u001b[39;00mn\u001b[38;5;132;01m}\u001b[39;00m\u001b[38;5;124m'\u001b[39m)\n\u001b[0;32m      4\u001b[0m     \u001b[38;5;28;01mreturn\u001b[39;00m \u001b[38;5;124m'\u001b[39m\u001b[38;5;124mpositive number\u001b[39m\u001b[38;5;124m'\u001b[39m\n",
      "\u001b[1;31mNegativeValueError\u001b[0m: you can't enter negative value -1"
     ]
    }
   ],
   "source": [
    "check(-1)"
   ]
  },
  {
   "cell_type": "markdown",
   "id": "7e8be345",
   "metadata": {},
   "source": [
    "#### 4.What are some common exceptions that are built-in to Python?"
   ]
  },
  {
   "cell_type": "markdown",
   "id": "b742e932",
   "metadata": {},
   "source": [
    "#### Answers:"
   ]
  },
  {
   "cell_type": "markdown",
   "id": "56fce930",
   "metadata": {},
   "source": [
    "- SyntaxError\n",
    "- IndentationError\n",
    "- IndexError\n",
    "- KeyError\n",
    "- NameError\n",
    "- ValueError\n",
    "- TypeError\n",
    "- ZeroDivisonError\n",
    "- AttributeError\n",
    "- FileNotFoundError\n",
    "- ModuleNotFoundError\n",
    "- MemoryError\n",
    "- OverflowError"
   ]
  },
  {
   "cell_type": "markdown",
   "id": "9a27a969",
   "metadata": {},
   "source": [
    "#### 5.What is logging in Python, and why is it important in software development?"
   ]
  },
  {
   "cell_type": "markdown",
   "id": "627f09f3",
   "metadata": {},
   "source": [
    "#### Answer:"
   ]
  },
  {
   "cell_type": "markdown",
   "id": "eabefce9",
   "metadata": {},
   "source": [
    "- Logging is a built-in module in python used to record and store informative messages,errors and status updates during program execution.\n",
    "\n",
    "#### Importance in Software Development:\n",
    "- Debugging\n",
    "- Troubleshooting\n",
    "- monitoring"
   ]
  },
  {
   "cell_type": "markdown",
   "id": "e91b28f5",
   "metadata": {},
   "source": [
    "#### 6.Explain the purpose of log levels in Python logging and provide examples of when each log level would be appropriate."
   ]
  },
  {
   "cell_type": "markdown",
   "id": "69038a95",
   "metadata": {},
   "source": [
    "#### Answer:"
   ]
  },
  {
   "cell_type": "markdown",
   "id": "86349951",
   "metadata": {},
   "source": [
    "- Log levels in python logging define the severity of messages recorded during program execution.\n",
    "\n",
    "- There are five standard log levels: DEBUG,INFO,WARNING,ERROR and CRITICAL,ranked from least severe to most severe.\n",
    "\n",
    "- DEBUG: It is the lowest level,providing detailed information for debugging and development purposes,but usually not enabled \n",
    "  in the production environment due to the volume of logs it generates. \n",
    "\n",
    "- INFO: It provides general information about the program execution and progress.\n",
    "    \n",
    "- WARNING: It indicates potential issues that might cause problems in the future.\n",
    "    \n",
    "- ERROR: It is used for recording errors that occured during program execution but were not severe enough to terminate it.    \n",
    "    \n",
    "- CRITICAL:It is the highest log level,reserved for catastrophic errors that might lead to the program termination , requiring immediate attention.\n"
   ]
  },
  {
   "cell_type": "markdown",
   "id": "b27c4c5f",
   "metadata": {},
   "source": [
    "#### 7.What are log formatters in Python logging, and how can you customise the log mmessage format using formatters?"
   ]
  },
  {
   "cell_type": "markdown",
   "id": "b0be5e3f",
   "metadata": {},
   "source": [
    "#### Answer:"
   ]
  },
  {
   "cell_type": "markdown",
   "id": "e5996497",
   "metadata": {},
   "source": [
    "- Log formatters in python logging define log message layout and content.\n",
    "\n",
    "- They allow developers to customize the log message format, including timestamp,log level,message and additional contextual information.\n",
    "\n",
    "- Configuring formatters ensures consistent and informative log outputs for easier analysis."
   ]
  },
  {
   "cell_type": "markdown",
   "id": "ca47ee77",
   "metadata": {},
   "source": [
    "#### 8.How can you set up logging to capture log messages from multiple modules or classes in a Python application?"
   ]
  },
  {
   "cell_type": "markdown",
   "id": "ee84b511",
   "metadata": {},
   "source": [
    "#### Answer:"
   ]
  },
  {
   "cell_type": "code",
   "execution_count": 55,
   "id": "a9a9c736",
   "metadata": {},
   "outputs": [],
   "source": [
    "import logging\n",
    "\n",
    "logging.basicConfig(level=logging.DEBUG,\n",
    "                    filename='app.log',\n",
    "                    format='%(asctime)s-%(levelname)s-%(lineno)d-%(message)s',\n",
    "                    datefmt='%d-%B-%Y %H:%M:%S')"
   ]
  },
  {
   "cell_type": "code",
   "execution_count": 57,
   "id": "57fa1ed0",
   "metadata": {},
   "outputs": [],
   "source": [
    "def divide_numbers(a,b):\n",
    "    try:\n",
    "        result= a/b     \n",
    "        return result\n",
    "    except Exception as e:\n",
    "        logging.warning(f'Error Name:{type(e).__name__},Error Message:{e}')"
   ]
  },
  {
   "cell_type": "code",
   "execution_count": 58,
   "id": "8a4d8376",
   "metadata": {},
   "outputs": [],
   "source": [
    "divide_numbers(4,0)"
   ]
  },
  {
   "cell_type": "code",
   "execution_count": 59,
   "id": "c9269eef",
   "metadata": {},
   "outputs": [],
   "source": [
    "class Person:\n",
    "    \n",
    "    def __init__(self,name,age):\n",
    "        self.name=name\n",
    "        self.age=age\n",
    "        logging.debug(f'name={name} and age={age}')"
   ]
  },
  {
   "cell_type": "code",
   "execution_count": 60,
   "id": "d773559a",
   "metadata": {},
   "outputs": [],
   "source": [
    "p1=Person('krish',22)"
   ]
  },
  {
   "attachments": {
    "image.png": {
     "image/png": "[encoded data removed]"
    }
   },
   "cell_type": "markdown",
   "id": "9951d3c9",
   "metadata": {},
   "source": [
    "![image.png](attachment:image.png)"
   ]
  },
  {
   "cell_type": "markdown",
   "id": "94ed54e8",
   "metadata": {},
   "source": [
    "#### 9.What is the difference between the logging and print statements in Python? When should you use logging over print statements in a real-world application?"
   ]
  },
  {
   "cell_type": "markdown",
   "id": "5c6f585e",
   "metadata": {},
   "source": [
    "#### Answer:"
   ]
  },
  {
   "cell_type": "markdown",
   "id": "c4b9a92a",
   "metadata": {},
   "source": [
    "##### Print:\n",
    "\n",
    "- It sends output to the console.\n",
    "- No log level, treats all messages equally.\n",
    "- Limited control over formatting.\n",
    "- Simple debugging during development."
   ]
  },
  {
   "cell_type": "markdown",
   "id": "7838330d",
   "metadata": {},
   "source": [
    "#### logging:"
   ]
  },
  {
   "cell_type": "markdown",
   "id": "d63ec2a4",
   "metadata": {},
   "source": [
    "- It sends output to various destinations (files,databases and external logging services).\n",
    "- There are five standard log levels: DEBUG,INFO,WARNING ERROR and CRITICAL, ranked from least severe to most severe.\n",
    "- It enables customizable log formatting, including timestamps and contextual information.\n",
    "- Preferred for real-world applications due to configurability, selective logging, troubleshooting,security compilance\n",
    "and long-term maintenance benefits.Provides a structured approach to handle application logging."
   ]
  },
  {
   "cell_type": "markdown",
   "id": "829fd03f",
   "metadata": {},
   "source": [
    "#### 10.Write a Python program that logs a message to a file named \"app.log\" with the following requirements:\n",
    "\n",
    "● The log message should be \"Hello, World!\"\n",
    "\n",
    "● The log level should be set to \"INFO.\"\n",
    "\n",
    "● The log file should append new log entries without overwriting previous ones."
   ]
  },
  {
   "cell_type": "markdown",
   "id": "e50539ca",
   "metadata": {},
   "source": [
    "#### Answer:"
   ]
  },
  {
   "cell_type": "code",
   "execution_count": 15,
   "id": "dc5b1324",
   "metadata": {},
   "outputs": [],
   "source": [
    "import logging\n",
    "\n",
    "logging.basicConfig(level=logging.INFO,\n",
    "                    filename='app.log',\n",
    "                    filemode='a',\n",
    "                    format='%(asctime)s-%(levelname)s-%(message)s',\n",
    "                    datefmt='%d-%B-%Y %H:%M:%S')\n",
    "logging.info('Hello,World!')"
   ]
  },
  {
   "attachments": {
    "image-3.png": {
     "image/png": "[encoded data removed]"
    }
   },
   "cell_type": "markdown",
   "id": "b34d0816",
   "metadata": {},
   "source": [
    "![image-3.png](attachment:image-3.png)"
   ]
  },
  {
   "cell_type": "markdown",
   "id": "eff9433a",
   "metadata": {},
   "source": [
    "#### 11.Create a Python program that logs an error message to the console and a file named \"errors.log\" if an exception occurs during the program's execution. The error message should include the exception type and a timestamp."
   ]
  },
  {
   "cell_type": "markdown",
   "id": "cce52bfa",
   "metadata": {},
   "source": [
    "#### Answer:"
   ]
  },
  {
   "cell_type": "code",
   "execution_count": 1,
   "id": "a704bd76",
   "metadata": {},
   "outputs": [],
   "source": [
    "import logging\n",
    "\n",
    "logging.basicConfig(level=logging.DEBUG,\n",
    "                    filename='errors.log',\n",
    "                    filemode='a',\n",
    "                    format='%(asctime)s-%(message)s',\n",
    "                    datefmt='%d-%B-%Y %H:%M:%S')"
   ]
  },
  {
   "cell_type": "code",
   "execution_count": 2,
   "id": "9a95145d",
   "metadata": {},
   "outputs": [],
   "source": [
    "def divide_numbers(a,b):\n",
    "    try:\n",
    "        logging.debug('====start====')\n",
    "        logging.debug(f'a:{a}')\n",
    "        logging.debug(f'b:{b}')\n",
    "        result=a/b\n",
    "        return result\n",
    "        \n",
    "    except Exception as e:\n",
    "        logging.error(f'{type(e).__name__}:{e}')"
   ]
  },
  {
   "cell_type": "code",
   "execution_count": 3,
   "id": "e9c5ae3a",
   "metadata": {},
   "outputs": [],
   "source": [
    "divide_numbers(4,0)"
   ]
  },
  {
   "attachments": {
    "image.png": {
     "image/png": "[encoded data removed]"
    }
   },
   "cell_type": "markdown",
   "id": "932501b9",
   "metadata": {},
   "source": [
    "![image.png](attachment:image.png)"
   ]
  },
  {
   "cell_type": "code",
   "execution_count": null,
   "id": "c27feca8",
   "metadata": {},
   "outputs": [],
   "source": []
  }
 ],
 "metadata": {
  "kernelspec": {
   "display_name": "Python 3 (ipykernel)",
   "language": "python",
   "name": "python3"
  },
  "language_info": {
   "codemirror_mode": {
    "name": "ipython",
    "version": 3
   },
   "file_extension": ".py",
   "mimetype": "text/x-python",
   "name": "python",
   "nbconvert_exporter": "python",
   "pygments_lexer": "ipython3",
   "version": "3.10.9"
  }
 },
 "nbformat": 4,
 "nbformat_minor": 5
}
