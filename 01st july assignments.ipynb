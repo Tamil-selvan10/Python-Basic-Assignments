{
 "cells": [
  {
   "cell_type": "markdown",
   "id": "ac6ab538",
   "metadata": {},
   "source": [
    "#### Assignments"
   ]
  },
  {
   "cell_type": "markdown",
   "id": "573d1016",
   "metadata": {},
   "source": [
    "#### 1.What is the primary goal of Object-Oriented Programming (OOP)?"
   ]
  },
  {
   "cell_type": "markdown",
   "id": "3642f462",
   "metadata": {},
   "source": [
    "#### Answer:"
   ]
  },
  {
   "cell_type": "markdown",
   "id": "615ce3f1",
   "metadata": {},
   "source": [
    "The primary goal of OOP is to organize and structure code using objects,promoting code resusability and maintainability."
   ]
  },
  {
   "cell_type": "markdown",
   "id": "cbf2c06b",
   "metadata": {},
   "source": [
    "#### 2.What is an object in Python?"
   ]
  },
  {
   "cell_type": "markdown",
   "id": "bcf436a8",
   "metadata": {},
   "source": [
    "#### Answer:"
   ]
  },
  {
   "cell_type": "markdown",
   "id": "2e44b036",
   "metadata": {},
   "source": [
    "In python, an object is an instance of a class, representing a specific entity with its attributes and behaviours."
   ]
  },
  {
   "cell_type": "markdown",
   "id": "7efd9f95",
   "metadata": {},
   "source": [
    "#### 3.What is a class in Python?"
   ]
  },
  {
   "cell_type": "markdown",
   "id": "f8e2a683",
   "metadata": {},
   "source": [
    "#### Answer:"
   ]
  },
  {
   "cell_type": "markdown",
   "id": "0915e0ea",
   "metadata": {},
   "source": [
    "Class is an object constructor,it is \"a blueprint to create objects\"."
   ]
  },
  {
   "cell_type": "markdown",
   "id": "cada962d",
   "metadata": {},
   "source": [
    "#### 4.What are attributes and methods in a class?"
   ]
  },
  {
   "cell_type": "markdown",
   "id": "2d423d6e",
   "metadata": {},
   "source": [
    "#### Answer:\n",
    "\n",
    "- Attributes in a class are variables that hold data,representing the object's properties.\n",
    "- Methods are functions within the class that define the object's behaviours and actions."
   ]
  },
  {
   "cell_type": "markdown",
   "id": "edabfa5b",
   "metadata": {},
   "source": [
    "#### 5.What is the difference between class variables and instance variables in Python?"
   ]
  },
  {
   "cell_type": "markdown",
   "id": "510143a3",
   "metadata": {},
   "source": [
    "#### Answer:"
   ]
  },
  {
   "cell_type": "markdown",
   "id": "62177dbd",
   "metadata": {},
   "source": [
    "The main difference b/w class variables and instance variables in python is their scope and usage.\n",
    "\n",
    "##### Class variables:\n",
    "\n",
    "- Class variables are defined within the class but outside any instance methods.\n",
    "- They are shared among all instances of the class and are accessed using the class name.\n",
    "- Class variables store data that is commom to all objects of the class.\n",
    "\n",
    "#### Instance variables:\n",
    "\n",
    "- Instance variables are defined within the class and inside the instance methods,using the 'self' keyword.\n",
    "- Each instance(object) of the class has its own copy of instance variables,and they are not shared among instances.\n",
    "- Instance variables store data that may vary from one object to another.\n",
    "\n"
   ]
  },
  {
   "cell_type": "markdown",
   "id": "b035046e",
   "metadata": {},
   "source": [
    "#### 6.What is the purpose of the self parameter in Python class methods?"
   ]
  },
  {
   "cell_type": "markdown",
   "id": "d0505a4d",
   "metadata": {},
   "source": [
    "#### Answer:"
   ]
  },
  {
   "cell_type": "markdown",
   "id": "f906c67c",
   "metadata": {},
   "source": [
    "- The purpose of the 'self' parameter in python class methods is to represent the instance of the class that the method is bound to when called.\n",
    "\n",
    "- It allows the methods to access and manipulate the object's attributes and behaviours, enabling object-specific functionality."
   ]
  },
  {
   "cell_type": "markdown",
   "id": "47ac7197",
   "metadata": {},
   "source": [
    "#### 7. For a library management system, you have to design the \"Book\" class with OOP principles in mind. The “Book” class will have following attributes:\n",
    "a. title: Represents the title of the book.\n",
    "\n",
    "b. author: Represents the author(s) of the book.\n",
    "\n",
    "c. isbn: Represents the ISBN (International Standard Book Number) of the book.\n",
    "\n",
    "d. publication_year: Represents the year of publication of the book.\n",
    "\n",
    "e. available_copies: Represents the number of copies available for checkout.\n",
    "\n",
    "The class will also include the following methods:\n",
    "\n",
    "a. check_out(self): Decrements the available copies by one if there are copies available for checkout.\n",
    "\n",
    "b. return_book(self): Increments the available copies by one when a book is\n",
    "returned.\n",
    "\n",
    "c. display_book_info(self): Displays the information about the book, including its\n",
    "attributes and the number of available copies."
   ]
  },
  {
   "cell_type": "markdown",
   "id": "9d3152d8",
   "metadata": {},
   "source": [
    "#### Answer:"
   ]
  },
  {
   "cell_type": "code",
   "execution_count": 3,
   "id": "097b0b54",
   "metadata": {},
   "outputs": [],
   "source": [
    "class Book:\n",
    "    \n",
    "    def __init__(self,title,author,isbn,publication_year,available_copies):\n",
    "        self.title=title\n",
    "        self.author=author\n",
    "        self.isbn=isbn\n",
    "        self.publication_year=publication_year\n",
    "        self.available_copies=available_copies\n",
    "        \n",
    "    def check_out(self):\n",
    "        self.available_copies-=1\n",
    "        \n",
    "    def return_book(self):\n",
    "        self.available_copies+=1\n",
    "        \n",
    "    def display_book_info(self):\n",
    "        print(f'Title:{self.title}')\n",
    "        print(f'Author:{self.author}')\n",
    "        print(f'isbn:{self.isbn}')\n",
    "        print(f'publication_year:{self.publication_year}')\n",
    "        print(f'available_copies:{self.available_copies}')\n",
    "        "
   ]
  },
  {
   "cell_type": "code",
   "execution_count": 4,
   "id": "13e818c9",
   "metadata": {},
   "outputs": [],
   "source": [
    "b1=Book('wings of Fire','APJ','AP1003',2000,24)"
   ]
  },
  {
   "cell_type": "code",
   "execution_count": 5,
   "id": "063bf7d1",
   "metadata": {},
   "outputs": [
    {
     "data": {
      "text/plain": [
       "24"
      ]
     },
     "execution_count": 5,
     "metadata": {},
     "output_type": "execute_result"
    }
   ],
   "source": [
    "b1.available_copies # no.of.copied available"
   ]
  },
  {
   "cell_type": "code",
   "execution_count": 6,
   "id": "8efda5f8",
   "metadata": {},
   "outputs": [],
   "source": [
    "b1.check_out()  # book checkout"
   ]
  },
  {
   "cell_type": "code",
   "execution_count": 7,
   "id": "f9e19e3a",
   "metadata": {},
   "outputs": [
    {
     "data": {
      "text/plain": [
       "23"
      ]
     },
     "execution_count": 7,
     "metadata": {},
     "output_type": "execute_result"
    }
   ],
   "source": [
    "b1.available_copies # no.of.copied available"
   ]
  },
  {
   "cell_type": "code",
   "execution_count": 8,
   "id": "8cfc793c",
   "metadata": {},
   "outputs": [],
   "source": [
    "b1.return_book() # return book"
   ]
  },
  {
   "cell_type": "code",
   "execution_count": 9,
   "id": "8d01249e",
   "metadata": {},
   "outputs": [
    {
     "data": {
      "text/plain": [
       "24"
      ]
     },
     "execution_count": 9,
     "metadata": {},
     "output_type": "execute_result"
    }
   ],
   "source": [
    "b1.available_copies # no.of.copied available"
   ]
  },
  {
   "cell_type": "code",
   "execution_count": 10,
   "id": "86b654c3",
   "metadata": {},
   "outputs": [
    {
     "name": "stdout",
     "output_type": "stream",
     "text": [
      "Title:wings of Fire\n",
      "Author:APJ\n",
      "isbn:AP1003\n",
      "publication_year:2000\n",
      "available_copies:24\n"
     ]
    }
   ],
   "source": [
    "b1.display_book_info() # display book info"
   ]
  },
  {
   "cell_type": "markdown",
   "id": "0905b728",
   "metadata": {},
   "source": [
    "#### 8. For a ticket booking system, you have to design the \"Ticket\" class with OOP principles in mind. The “Ticket” class should have the following attributes:\n",
    "\n",
    "a. ticket_id: Represents the unique identifier for the ticket.\n",
    "\n",
    "b. event_name: Represents the name of the event.\n",
    "\n",
    "c. event_date: Represents the date of the event.\n",
    "\n",
    "d. venue: Represents the venue of the event.\n",
    "\n",
    "e. seat_number: Represents the seat number associated with the ticket.\n",
    "\n",
    "f. price: Represents the price of the ticket.\n",
    "\n",
    "g. is_reserved: Represents the reservation status of the ticket.\n",
    "\n",
    "The class also includes the following methods:\n",
    "\n",
    "a. reserve_ticket(self): Marks the ticket as reserved if it is not already reserved.\n",
    "\n",
    "b. cancel_reservation(self): Cancels the reservation of the ticket if it is already\n",
    "reserved.\n",
    "\n",
    "c. display_ticket_info(self): Displays the information about the ticket, including its\n",
    "attributes and reservation status."
   ]
  },
  {
   "cell_type": "markdown",
   "id": "1221dcab",
   "metadata": {},
   "source": [
    "#### Answer:"
   ]
  },
  {
   "cell_type": "code",
   "execution_count": 14,
   "id": "99e5caab",
   "metadata": {},
   "outputs": [],
   "source": [
    "class Ticket:\n",
    "    \n",
    "    def __init__(self,ticket_id,event_name,event_date,venue,seat_number,price,is_reserved):\n",
    "        self.ticket_id=ticket_id\n",
    "        self.event_name=event_name\n",
    "        self.event_date=event_date\n",
    "        self.venue=venue\n",
    "        self.seat_number=seat_number\n",
    "        self.price=price\n",
    "        self.is_reserved=is_reserved\n",
    "        \n",
    "    def reserve_ticket(self):\n",
    "        if self.is_reserved=='Not reserved':\n",
    "            self.is_reserved='Reserved'\n",
    "    \n",
    "    def cancel_reservation(self):\n",
    "        if self.is_reserved =='Reserved':\n",
    "            self.is_reserved='Cancelled'\n",
    "            \n",
    "    def display_ticket_info(self):\n",
    "        print(f'Ticket ID:{self.ticket_id}')\n",
    "        print(f'Event Name:{self.event_name}')\n",
    "        print(f'Event Date:{self.event_date}')\n",
    "        print(f'Venue:{self.venue}')\n",
    "        print(f'Seat Number:{self.seat_number}')\n",
    "        print(f'Price:{self.price}')\n",
    "        print(f'is_reserved:{self.is_reserved}')"
   ]
  },
  {
   "cell_type": "code",
   "execution_count": 16,
   "id": "acdae206",
   "metadata": {},
   "outputs": [],
   "source": [
    "t1=Ticket('T256','Super Singer 8','26-July-2023','Chennai','S432',200,'Not reserved')"
   ]
  },
  {
   "cell_type": "code",
   "execution_count": 17,
   "id": "1cd57681",
   "metadata": {},
   "outputs": [
    {
     "name": "stdout",
     "output_type": "stream",
     "text": [
      "Ticket ID:T256\n",
      "Event Name:Super Singer 8\n",
      "Event Date:26-July-2023\n",
      "Venue:Chennai\n",
      "Seat Number:S432\n",
      "Price:200\n",
      "is_reserved:Not reserved\n"
     ]
    }
   ],
   "source": [
    "t1.display_ticket_info() # dsiplay ticket info"
   ]
  },
  {
   "cell_type": "code",
   "execution_count": 18,
   "id": "9080bcc4",
   "metadata": {},
   "outputs": [],
   "source": [
    "t1.reserve_ticket() # reserve the ticket T256"
   ]
  },
  {
   "cell_type": "code",
   "execution_count": 19,
   "id": "dc735254",
   "metadata": {},
   "outputs": [
    {
     "name": "stdout",
     "output_type": "stream",
     "text": [
      "Ticket ID:T256\n",
      "Event Name:Super Singer 8\n",
      "Event Date:26-July-2023\n",
      "Venue:Chennai\n",
      "Seat Number:S432\n",
      "Price:200\n",
      "is_reserved:Reserved\n"
     ]
    }
   ],
   "source": [
    "t1.display_ticket_info() # dsiplay ticket info"
   ]
  },
  {
   "cell_type": "code",
   "execution_count": 20,
   "id": "5598db3e",
   "metadata": {},
   "outputs": [],
   "source": [
    "t1.cancel_reservation() # Cancel the ticket T256"
   ]
  },
  {
   "cell_type": "code",
   "execution_count": 21,
   "id": "fc3f526c",
   "metadata": {},
   "outputs": [
    {
     "name": "stdout",
     "output_type": "stream",
     "text": [
      "Ticket ID:T256\n",
      "Event Name:Super Singer 8\n",
      "Event Date:26-July-2023\n",
      "Venue:Chennai\n",
      "Seat Number:S432\n",
      "Price:200\n",
      "is_reserved:Cancelled\n"
     ]
    }
   ],
   "source": [
    "t1.display_ticket_info() # dsiplay ticket info"
   ]
  },
  {
   "cell_type": "markdown",
   "id": "7934f4c5",
   "metadata": {},
   "source": [
    "#### 9. You are creating a shopping cart for an e-commerce website. Using OOP to model the \"ShoppingCart\" functionality the class should contain following attributes and methods:\n",
    "a. items: Represents the list of items in the shopping cart.\n",
    "\n",
    "The class also includes the following methods:\n",
    "\n",
    "a. add_item(self, item): Adds an item to the shopping cart by appending it to the\n",
    "list of items.\n",
    "\n",
    "b. remove_item(self, item): Removes an item from the shopping cart if it exists in\n",
    "the list.\n",
    "\n",
    "c. view_cart(self): Displays the items currently present in the shopping cart.\n",
    "\n",
    "d. clear_cart(self): Clears all items from the shopping cart by reassigning an\n",
    "empty list to the items attribute."
   ]
  },
  {
   "cell_type": "markdown",
   "id": "8ada3d36",
   "metadata": {},
   "source": [
    "#### Answer:"
   ]
  },
  {
   "cell_type": "code",
   "execution_count": 54,
   "id": "923b90a8",
   "metadata": {},
   "outputs": [],
   "source": [
    "class ShoppingCart:\n",
    "    \n",
    "    def __init__(self,items):\n",
    "        self.items_list=items\n",
    "        \n",
    "    def add_item(self,item):\n",
    "        if item not in self.items_list:\n",
    "            self.items_list.append(item)\n",
    "            \n",
    "    def remove_item(self,item):\n",
    "        if item in self.items_list:\n",
    "            self.items_list.remove(item)\n",
    "            \n",
    "    def view_cart(self):\n",
    "        if self.items_list:\n",
    "            for item in self.items_list:\n",
    "                print(item)\n",
    "                \n",
    "        else:\n",
    "            print('No items available in the cart')\n",
    "            \n",
    "            \n",
    "    def clear_cart(self):\n",
    "        self.items_list.clear()"
   ]
  },
  {
   "cell_type": "code",
   "execution_count": 55,
   "id": "4ff69963",
   "metadata": {},
   "outputs": [],
   "source": [
    "sc1=ShoppingCart(['item1','item2','item3','item4','item5'])"
   ]
  },
  {
   "cell_type": "code",
   "execution_count": 56,
   "id": "dc94adaf",
   "metadata": {},
   "outputs": [
    {
     "name": "stdout",
     "output_type": "stream",
     "text": [
      "item1\n",
      "item2\n",
      "item3\n",
      "item4\n",
      "item5\n"
     ]
    }
   ],
   "source": [
    "sc1.view_cart() # view the cart"
   ]
  },
  {
   "cell_type": "code",
   "execution_count": 57,
   "id": "e79a9990",
   "metadata": {},
   "outputs": [],
   "source": [
    "sc1.add_item('item6') # add item"
   ]
  },
  {
   "cell_type": "code",
   "execution_count": 58,
   "id": "c68c9f0f",
   "metadata": {},
   "outputs": [
    {
     "name": "stdout",
     "output_type": "stream",
     "text": [
      "item1\n",
      "item2\n",
      "item3\n",
      "item4\n",
      "item5\n",
      "item6\n"
     ]
    }
   ],
   "source": [
    "sc1.view_cart() # view the cart"
   ]
  },
  {
   "cell_type": "code",
   "execution_count": 59,
   "id": "74b9de93",
   "metadata": {},
   "outputs": [],
   "source": [
    "sc1.remove_item('item3') # remove item"
   ]
  },
  {
   "cell_type": "code",
   "execution_count": 60,
   "id": "e5c7a530",
   "metadata": {},
   "outputs": [
    {
     "name": "stdout",
     "output_type": "stream",
     "text": [
      "item1\n",
      "item2\n",
      "item4\n",
      "item5\n",
      "item6\n"
     ]
    }
   ],
   "source": [
    "sc1.view_cart() # view the cart"
   ]
  },
  {
   "cell_type": "code",
   "execution_count": 61,
   "id": "9201f3f0",
   "metadata": {},
   "outputs": [],
   "source": [
    "sc1.clear_cart() # clear the cart"
   ]
  },
  {
   "cell_type": "code",
   "execution_count": 62,
   "id": "0e8d752c",
   "metadata": {},
   "outputs": [
    {
     "name": "stdout",
     "output_type": "stream",
     "text": [
      "No items available in the cart\n"
     ]
    }
   ],
   "source": [
    "sc1.view_cart() # view the cart"
   ]
  },
  {
   "cell_type": "markdown",
   "id": "5ed9b125",
   "metadata": {},
   "source": [
    "#### 10. Imagine a school management system. You have to design the \"Student\" class using OOP concepts.The “Student” class has the following attributes:\n",
    "a. name: Represents the name of the student.\n",
    "\n",
    "b. age: Represents the age of the student.\n",
    "\n",
    "c. grade: Represents the grade or class of the student.\n",
    "\n",
    "d. student_id: Represents the unique identifier for the student.\n",
    "\n",
    "e. attendance: Represents the attendance record of the student.\n",
    "\n",
    "The class should also include the following methods:\n",
    "\n",
    "a. update_attendance(self, date, status): Updates the attendance record of the\n",
    "student for a given date with the provided status (e.g., present or absent).\n",
    "\n",
    "b. get_attendance(self): Returns the attendance record of the student.\n",
    "\n",
    "c. get_average_attendance(self): Calculates and returns the average\n",
    "attendance percentage of the student based on their attendance record."
   ]
  },
  {
   "cell_type": "markdown",
   "id": "8d55b094",
   "metadata": {},
   "source": [
    "#### Answer:"
   ]
  },
  {
   "cell_type": "code",
   "execution_count": 130,
   "id": "49ef8c66",
   "metadata": {},
   "outputs": [],
   "source": [
    "class Student:\n",
    "    \n",
    "    def __init__(self,name,age,grade,student_id,attendance):\n",
    "        self.name=name\n",
    "        self.age=age\n",
    "        self.grade=grade\n",
    "        self.student_id=student_id\n",
    "        self.attendance=attendance\n",
    "        \n",
    "    def update_attendance(self,date,status):\n",
    "        self.attendance.update({date:status})\n",
    "        \n",
    "    def get_attendance(self):\n",
    "        if self.attendance:\n",
    "            for date,status in self.attendance.items():\n",
    "                print(f'Date:{date} , status={status}')\n",
    "                \n",
    "        else:\n",
    "            print('No record found')\n",
    "            \n",
    "    def get_average_attendance(self):\n",
    "        if self.attendance:\n",
    "            l=list(self.attendance.values())\n",
    "            p=(l.count('Present')/len(l))*100\n",
    "            return f'{p:.2f}%'\n",
    "        else:\n",
    "            return '0%'"
   ]
  },
  {
   "cell_type": "code",
   "execution_count": 131,
   "id": "8678bb82",
   "metadata": {},
   "outputs": [],
   "source": [
    "day=[str(i)+'-July-2023' for i in range(1,11)]"
   ]
  },
  {
   "cell_type": "code",
   "execution_count": 132,
   "id": "7ee4074c",
   "metadata": {},
   "outputs": [],
   "source": [
    "status=['Absent' if i in [3,7,9] else 'Present' for i in range(1,11)]"
   ]
  },
  {
   "cell_type": "code",
   "execution_count": 133,
   "id": "8bfd72bc",
   "metadata": {},
   "outputs": [],
   "source": [
    "attend_status=dict(zip(day,status))"
   ]
  },
  {
   "cell_type": "code",
   "execution_count": 134,
   "id": "88caa08e",
   "metadata": {},
   "outputs": [],
   "source": [
    "s1=Student('krish',22,'A+','S1234',attend_status)"
   ]
  },
  {
   "cell_type": "code",
   "execution_count": 135,
   "id": "5d8dcd16",
   "metadata": {},
   "outputs": [
    {
     "name": "stdout",
     "output_type": "stream",
     "text": [
      "Date:1-July-2023 , status=Present\n",
      "Date:2-July-2023 , status=Present\n",
      "Date:3-July-2023 , status=Absent\n",
      "Date:4-July-2023 , status=Present\n",
      "Date:5-July-2023 , status=Present\n",
      "Date:6-July-2023 , status=Present\n",
      "Date:7-July-2023 , status=Absent\n",
      "Date:8-July-2023 , status=Present\n",
      "Date:9-July-2023 , status=Absent\n",
      "Date:10-July-2023 , status=Present\n"
     ]
    }
   ],
   "source": [
    "s1.get_attendance() # get attendance record"
   ]
  },
  {
   "cell_type": "code",
   "execution_count": 136,
   "id": "2be615d6",
   "metadata": {},
   "outputs": [],
   "source": [
    "s1.update_attendance('4-July-2023','Absent') # update the attendance status as 'Absent' on 4-July-2023"
   ]
  },
  {
   "cell_type": "code",
   "execution_count": 137,
   "id": "e2cbf3fb",
   "metadata": {},
   "outputs": [
    {
     "name": "stdout",
     "output_type": "stream",
     "text": [
      "Date:1-July-2023 , status=Present\n",
      "Date:2-July-2023 , status=Present\n",
      "Date:3-July-2023 , status=Absent\n",
      "Date:4-July-2023 , status=Absent\n",
      "Date:5-July-2023 , status=Present\n",
      "Date:6-July-2023 , status=Present\n",
      "Date:7-July-2023 , status=Absent\n",
      "Date:8-July-2023 , status=Present\n",
      "Date:9-July-2023 , status=Absent\n",
      "Date:10-July-2023 , status=Present\n"
     ]
    }
   ],
   "source": [
    "s1.get_attendance() # get attendance record"
   ]
  },
  {
   "cell_type": "code",
   "execution_count": 138,
   "id": "f5cd4dd8",
   "metadata": {},
   "outputs": [
    {
     "data": {
      "text/plain": [
       "'60.00%'"
      ]
     },
     "execution_count": 138,
     "metadata": {},
     "output_type": "execute_result"
    }
   ],
   "source": [
    "s1.get_average_attendance()"
   ]
  },
  {
   "cell_type": "code",
   "execution_count": null,
   "id": "f428fba5",
   "metadata": {},
   "outputs": [],
   "source": []
  }
 ],
 "metadata": {
  "kernelspec": {
   "display_name": "Python 3 (ipykernel)",
   "language": "python",
   "name": "python3"
  },
  "language_info": {
   "codemirror_mode": {
    "name": "ipython",
    "version": 3
   },
   "file_extension": ".py",
   "mimetype": "text/x-python",
   "name": "python",
   "nbconvert_exporter": "python",
   "pygments_lexer": "ipython3",
   "version": "3.10.9"
  }
 },
 "nbformat": 4,
 "nbformat_minor": 5
}
