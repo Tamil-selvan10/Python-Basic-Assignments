{
 "cells": [
  {
   "cell_type": "markdown",
   "id": "84b85a44",
   "metadata": {},
   "source": [
    "#### Assignments"
   ]
  },
  {
   "cell_type": "markdown",
   "id": "6af35b4c",
   "metadata": {},
   "source": [
    "#### 1.Explain what inheritance is in object-oriented programming and why it is used."
   ]
  },
  {
   "cell_type": "markdown",
   "id": "0a7b33a9",
   "metadata": {},
   "source": [
    "#### Answer:"
   ]
  },
  {
   "cell_type": "markdown",
   "id": "efc8ec17",
   "metadata": {},
   "source": [
    "- Inheritance in object-oriented programming allows a class to inherits \n",
    "  attributes and behaviours from another class, promoting code reuse and creating hierarchical relationships.\n",
    "\n",
    "- It is used to achieve abstraction,polymorphism and organized class hierarchies."
   ]
  },
  {
   "cell_type": "markdown",
   "id": "e4e853a6",
   "metadata": {},
   "source": [
    "#### 2.Discuss the concept of single inheritance and multiple inheritance, highlighting their differences and advantages."
   ]
  },
  {
   "cell_type": "markdown",
   "id": "5fe317ad",
   "metadata": {},
   "source": [
    "#### Answer:"
   ]
  },
  {
   "cell_type": "markdown",
   "id": "f9fa11ff",
   "metadata": {},
   "source": [
    "#### Single Inheritance:\n",
    "\n",
    "- Single inheritance is a concept in object-oriented programming where a class can inherit\n",
    "  attributes and behaviours from only one superclass.\n",
    "    \n",
    "    \n",
    "#### Multiple Inheritance:\n",
    "\n",
    "- Multiple inheritance is a concept in object-oriented programming where a class can inherit\n",
    "  attributes and behaviours from two or more superclasses.\n",
    "  \n",
    "  \n",
    "#### Differences and Advantages:\n",
    "\n",
    "- Single Inheritance\n",
    "\n",
    "\n",
    "   - Simpler and easier to understand with no ambiguity about the source of inherited properties.\n",
    "   - No conflicts arising from multiple paths of inheritance.\n",
    "   \n",
    "\n",
    "\n",
    "- Multiple Inheritance\n",
    " \n",
    "   \n",
    "   - Enables extensive code reuse by inheriting from multiple sources.\n",
    "   - Allows more versatile modeling by combining featires from different parent classes.\n",
    "   - Provides the ability to create complex relationships between classes.\n",
    "   - Encourages modular and reusable code.\n"
   ]
  },
  {
   "cell_type": "markdown",
   "id": "e8517f08",
   "metadata": {},
   "source": [
    "#### 3.Explain the terms \"base class\" and \"derived class\" in the context of inheritance."
   ]
  },
  {
   "cell_type": "markdown",
   "id": "9e389073",
   "metadata": {},
   "source": [
    "#### Answer:"
   ]
  },
  {
   "cell_type": "markdown",
   "id": "07e5bea3",
   "metadata": {},
   "source": [
    "- In the context of inheritance,\n",
    "- the 'base class' refers to the superclass or the class that is being inherited by another class.\n",
    "- The 'derived class' refers to the subclass or the class that inherits attributes and behaviours from the base class, extending its functionality."
   ]
  },
  {
   "cell_type": "markdown",
   "id": "8fea0b10",
   "metadata": {},
   "source": [
    "#### 4.What is the significance of the \"protected\" access modifier in inheritance? How does it differ from \"private\" and \"public\" modifiers?"
   ]
  },
  {
   "cell_type": "markdown",
   "id": "0d9cf0b8",
   "metadata": {},
   "source": [
    "#### Answer:"
   ]
  },
  {
   "cell_type": "markdown",
   "id": "6439a31c",
   "metadata": {},
   "source": [
    "#### public modifier:\n",
    "- Public members are accessible from anywhere, including outside the class and its derived classes.\n",
    "- They have no restrictions on accessibility and can be accessed and modified by any part of the code\n",
    "\n",
    "#### protected modifier:\n",
    "\n",
    "- Protected members are accessible within the class where they are defined, as well as in derived classes.\n",
    "- This enables derived classes to access and modify protected members of the base class, promoting code reuse and specialization.\n",
    "\n",
    "#### private modifier:\n",
    "\n",
    "- Private members are only accessible within the class where they are defined.\n",
    "- They are not accessible in derived classes,which means that subclasses cannot directly access or modify private members of the base class."
   ]
  },
  {
   "cell_type": "markdown",
   "id": "04cfc1fa",
   "metadata": {},
   "source": [
    "#### 5.What is the purpose of the \"super\" keyword in inheritance? Provide an example."
   ]
  },
  {
   "cell_type": "markdown",
   "id": "9385198c",
   "metadata": {},
   "source": [
    "#### Answer:"
   ]
  },
  {
   "cell_type": "markdown",
   "id": "0136f780",
   "metadata": {},
   "source": [
    "- In python, the 'super' keyword is used to call and access attributes and methods \n",
    "  from the superclass(base class) within the subclass(derived class).\n",
    "    \n",
    "- It allows the subclass to extend or override the behaviour of the superclass while reusing its functionalities."
   ]
  },
  {
   "cell_type": "code",
   "execution_count": 1,
   "id": "2ce34653",
   "metadata": {},
   "outputs": [],
   "source": [
    "class Animal:\n",
    "    \n",
    "    def __init__(self,name):\n",
    "        self.name=name\n",
    "        \n",
    "    def make_sound(self):\n",
    "        print('Generic Animal Sound')"
   ]
  },
  {
   "cell_type": "code",
   "execution_count": 2,
   "id": "60e41961",
   "metadata": {},
   "outputs": [],
   "source": [
    "class Dog(Animal):\n",
    "    \n",
    "    def __init__(self,name,breed):\n",
    "        super().__init__(name)\n",
    "        # Animal.__init__(name)\n",
    "        self.breed= breed\n",
    "    \n",
    "    def make_sound(self):\n",
    "        print('woof! woof!')\n",
    "    \n",
    "    def display(self):\n",
    "        print(f'Dog Name:{self.name} and Breed: {self.breed}')"
   ]
  },
  {
   "cell_type": "code",
   "execution_count": 3,
   "id": "7d24592b",
   "metadata": {},
   "outputs": [],
   "source": [
    "d1=Dog('max','dabarman')"
   ]
  },
  {
   "cell_type": "code",
   "execution_count": 4,
   "id": "c778f21c",
   "metadata": {},
   "outputs": [
    {
     "name": "stdout",
     "output_type": "stream",
     "text": [
      "woof! woof!\n"
     ]
    }
   ],
   "source": [
    "d1.make_sound()"
   ]
  },
  {
   "cell_type": "code",
   "execution_count": 5,
   "id": "e8cb5c33",
   "metadata": {},
   "outputs": [
    {
     "name": "stdout",
     "output_type": "stream",
     "text": [
      "Dog Name:max and Breed: dabarman\n"
     ]
    }
   ],
   "source": [
    "d1.display()"
   ]
  },
  {
   "cell_type": "markdown",
   "id": "32563593",
   "metadata": {},
   "source": [
    "#### 6.Create a base class called \"Vehicle\" with attributes like \"make\", \"model\", and \"year\". Then, create a derived class called \"Car\" that inherits from \"Vehicle\" and adds an attribute called \"fuel_type\". Implement appropriate methods in both classes."
   ]
  },
  {
   "cell_type": "markdown",
   "id": "7d65d793",
   "metadata": {},
   "source": [
    "#### Answer:"
   ]
  },
  {
   "cell_type": "code",
   "execution_count": 22,
   "id": "eb21588d",
   "metadata": {},
   "outputs": [],
   "source": [
    "class Vehicle:\n",
    "    \n",
    "    def __init__(self,make,model,year):\n",
    "        self.make=make\n",
    "        self.model=model\n",
    "        self.year=year\n",
    "        \n",
    "    def display_info(self):\n",
    "        print(f'Make:{self.make}, Model:{self.model}, Year={self.year}')"
   ]
  },
  {
   "cell_type": "code",
   "execution_count": 29,
   "id": "a36cdb17",
   "metadata": {},
   "outputs": [],
   "source": [
    "class Car(Vehicle):\n",
    "    \n",
    "    def __init__(self,make,model,year,fuel_type):\n",
    "        Vehicle.__init__(self,make,model,year)\n",
    "        self.fuel_type=fuel_type\n",
    "        \n",
    "    def display_info(self):\n",
    "        super().display_info()\n",
    "        print(f'Fuel Type:{self.fuel_type}')"
   ]
  },
  {
   "cell_type": "code",
   "execution_count": 30,
   "id": "983e5ca8",
   "metadata": {},
   "outputs": [],
   "source": [
    "c1=Car('Tata','Nano',2022,'diesel')"
   ]
  },
  {
   "cell_type": "code",
   "execution_count": 31,
   "id": "35b33328",
   "metadata": {},
   "outputs": [
    {
     "name": "stdout",
     "output_type": "stream",
     "text": [
      "Make:Tata, Model:Nano, Year=2022\n",
      "Fuel Type:diesel\n"
     ]
    }
   ],
   "source": [
    "c1.display_info()"
   ]
  },
  {
   "cell_type": "markdown",
   "id": "a8f11866",
   "metadata": {},
   "source": [
    "#### 7.Create a base class called \"Employee\" with attributes like \"name\" and \"salary.\"  Derive two classes, \"Manager\" and \"Developer,\" from \"Employee.\" Add an additional attribute called \"department\" for the \"Manager\" class and \"programming_language\" for the \"Developer\" class."
   ]
  },
  {
   "cell_type": "markdown",
   "id": "7124e495",
   "metadata": {},
   "source": [
    "#### Answer:"
   ]
  },
  {
   "cell_type": "code",
   "execution_count": 34,
   "id": "a9b61b7d",
   "metadata": {},
   "outputs": [],
   "source": [
    "class Employee:\n",
    "    \n",
    "    def __init__(self,name,salary):\n",
    "        self.name=name\n",
    "        self.salary=salary\n",
    "        \n",
    "    def display_info(self):\n",
    "        print(f'Name:{self.name}, Salary:{self.salary}')"
   ]
  },
  {
   "cell_type": "code",
   "execution_count": 35,
   "id": "d2f5dd27",
   "metadata": {},
   "outputs": [],
   "source": [
    "class Manager(Employee):\n",
    "    \n",
    "    def __init__(self,name,salary,department):\n",
    "        super().__init__(name,salary)\n",
    "        self.department=department\n",
    "        \n",
    "    def display_info(self):\n",
    "        super().display_info()\n",
    "        print(f'Department:{self.department}')        "
   ]
  },
  {
   "cell_type": "code",
   "execution_count": 36,
   "id": "bbe2451f",
   "metadata": {},
   "outputs": [],
   "source": [
    "class Developer(Employee):\n",
    "    \n",
    "    def __init__(self,name,salary,programming_language):\n",
    "        super().__init__(name,salary)\n",
    "        self.programming_language=programming_language\n",
    "        \n",
    "    def display_info(self):\n",
    "        super().display_info()\n",
    "        print(f'Programming Language:{self.programming_language}')"
   ]
  },
  {
   "cell_type": "code",
   "execution_count": 39,
   "id": "6ced2011",
   "metadata": {},
   "outputs": [],
   "source": [
    "m1=Manager('krish',200000,'Technical')"
   ]
  },
  {
   "cell_type": "code",
   "execution_count": 40,
   "id": "94f01bde",
   "metadata": {},
   "outputs": [
    {
     "name": "stdout",
     "output_type": "stream",
     "text": [
      "Name:krish, Salary:200000\n",
      "Department:Technical\n"
     ]
    }
   ],
   "source": [
    "m1.display_info()"
   ]
  },
  {
   "cell_type": "code",
   "execution_count": 41,
   "id": "8493cb11",
   "metadata": {},
   "outputs": [],
   "source": [
    "d1=Developer('Tamil',24000,'Python')"
   ]
  },
  {
   "cell_type": "code",
   "execution_count": 42,
   "id": "265077af",
   "metadata": {},
   "outputs": [
    {
     "name": "stdout",
     "output_type": "stream",
     "text": [
      "Name:Tamil, Salary:24000\n",
      "Programming Language:Python\n"
     ]
    }
   ],
   "source": [
    "d1.display_info()"
   ]
  },
  {
   "cell_type": "code",
   "execution_count": 44,
   "id": "38ef8a5c",
   "metadata": {},
   "outputs": [
    {
     "data": {
      "text/plain": [
       "'Manager'"
      ]
     },
     "execution_count": 44,
     "metadata": {},
     "output_type": "execute_result"
    }
   ],
   "source": [
    "type(m1).__name__"
   ]
  },
  {
   "cell_type": "code",
   "execution_count": 46,
   "id": "9d86279b",
   "metadata": {},
   "outputs": [
    {
     "data": {
      "text/plain": [
       "'Developer'"
      ]
     },
     "execution_count": 46,
     "metadata": {},
     "output_type": "execute_result"
    }
   ],
   "source": [
    "type(d1).__name__"
   ]
  },
  {
   "cell_type": "markdown",
   "id": "3c1c89f1",
   "metadata": {},
   "source": [
    "#### 8.Design a base class called \"Shape\" with attributes like \"colour\" and \"border_width.\" Create derived classes, \"Rectangle\" and \"Circle,\" that inherit from \"Shape\" and add specific attributes like \"length\" and \"width\" for the \"Rectangle\" class and \"radius\" for the \"Circle\" class."
   ]
  },
  {
   "cell_type": "markdown",
   "id": "0fbe0f22",
   "metadata": {},
   "source": [
    "#### Answer:"
   ]
  },
  {
   "cell_type": "code",
   "execution_count": 58,
   "id": "ed1d5d1f",
   "metadata": {},
   "outputs": [],
   "source": [
    "class Shape:\n",
    "    \n",
    "    def __init__(self,colour,border_width):\n",
    "        self.colour=colour\n",
    "        self.border_width=border_width\n",
    "        \n",
    "    def display_info(self):\n",
    "        print(f'colour:{self.colour}, border_width:{self.border_width}')\n",
    "    "
   ]
  },
  {
   "cell_type": "code",
   "execution_count": 59,
   "id": "d2df70c4",
   "metadata": {},
   "outputs": [],
   "source": [
    "class Rectangle(Shape):\n",
    "    \n",
    "    def __init__(self,colour,border_width,length,width):\n",
    "        super().__init__(colour,border_width)\n",
    "        self.length=length\n",
    "        self.width=width\n",
    "        \n",
    "    def display_info(self):\n",
    "        super().display_info()\n",
    "        print(f'length:{self.length}, width:{self.width}')"
   ]
  },
  {
   "cell_type": "code",
   "execution_count": 65,
   "id": "46c4446c",
   "metadata": {},
   "outputs": [],
   "source": [
    "class Circle(Shape):\n",
    "    \n",
    "    def __init__(self,colour,border_width,radius):\n",
    "        Shape.__init__(self,colour,border_width)\n",
    "        self.radius=radius\n",
    "        \n",
    "    def display_info(self):\n",
    "        super().display_info()\n",
    "        print(f'radius:{self.radius}')"
   ]
  },
  {
   "cell_type": "code",
   "execution_count": 66,
   "id": "9258945a",
   "metadata": {},
   "outputs": [],
   "source": [
    "r1=Rectangle('Red',2.5,2,3)"
   ]
  },
  {
   "cell_type": "code",
   "execution_count": 67,
   "id": "dd2b26d2",
   "metadata": {},
   "outputs": [
    {
     "name": "stdout",
     "output_type": "stream",
     "text": [
      "colour:Red, border_width:2.5\n",
      "length:2, width:3\n"
     ]
    }
   ],
   "source": [
    "r1.display_info()"
   ]
  },
  {
   "cell_type": "code",
   "execution_count": 68,
   "id": "4ed9efef",
   "metadata": {},
   "outputs": [],
   "source": [
    "c1=Circle('blue',10,5)"
   ]
  },
  {
   "cell_type": "code",
   "execution_count": 69,
   "id": "8da5266e",
   "metadata": {},
   "outputs": [
    {
     "name": "stdout",
     "output_type": "stream",
     "text": [
      "colour:blue, border_width:10\n",
      "radius:5\n"
     ]
    }
   ],
   "source": [
    "c1.display_info()"
   ]
  },
  {
   "cell_type": "markdown",
   "id": "dd40b795",
   "metadata": {},
   "source": [
    "#### 9.Create a base class called \"Device\" with attributes like \"brand\" and \"model.\" Derive two classes, \"Phone\" and \"Tablet,\" from \"Device.\" Add specific attributes like \"screen_size\" for the \"Phone\" class and \"battery_capacity\" for the \"Tablet\" class."
   ]
  },
  {
   "cell_type": "markdown",
   "id": "eb2ca9d1",
   "metadata": {},
   "source": [
    "#### Answer:"
   ]
  },
  {
   "cell_type": "code",
   "execution_count": 73,
   "id": "83e86bc9",
   "metadata": {},
   "outputs": [],
   "source": [
    "class Device:\n",
    "    \n",
    "    def __init__(self,brand,model):\n",
    "        self.brand=brand\n",
    "        self.model=model\n",
    "        \n",
    "    def display_info(self):\n",
    "        print(f'brand:{self.brand}, model:{self.model}')"
   ]
  },
  {
   "cell_type": "code",
   "execution_count": 74,
   "id": "0a3b9691",
   "metadata": {},
   "outputs": [],
   "source": [
    "class Phone(Device):\n",
    "    \n",
    "    def __init__(self,brand,model,screen_size):\n",
    "        Device.__init__(self,brand,model)\n",
    "        self.screen_size=screen_size\n",
    "        \n",
    "    def display_info(self):\n",
    "        Device.display_info(self)\n",
    "        print(f'screen size:{self.screen_size}')"
   ]
  },
  {
   "cell_type": "code",
   "execution_count": 75,
   "id": "2e6580fc",
   "metadata": {},
   "outputs": [],
   "source": [
    "class Tablet(Device):\n",
    "    \n",
    "    def __init__(self,brand,model,battery_capacity):\n",
    "        super().__init__(brand,model)\n",
    "        self.battery_capacity=battery_capacity\n",
    "        \n",
    "    def display_info(self):\n",
    "        super().display_info()\n",
    "        print(f'Battery Capacity:{self.battery_capacity}')"
   ]
  },
  {
   "cell_type": "code",
   "execution_count": 76,
   "id": "6eb24a48",
   "metadata": {},
   "outputs": [],
   "source": [
    "p1=Phone('vivo','vivo 1916','3.5 inch')"
   ]
  },
  {
   "cell_type": "code",
   "execution_count": 77,
   "id": "ee71045a",
   "metadata": {},
   "outputs": [
    {
     "name": "stdout",
     "output_type": "stream",
     "text": [
      "brand:vivo, model:vivo 1916\n",
      "screen size:3.5 inch\n"
     ]
    }
   ],
   "source": [
    "p1.display_info()"
   ]
  },
  {
   "cell_type": "code",
   "execution_count": 78,
   "id": "a96e9523",
   "metadata": {},
   "outputs": [],
   "source": [
    "t1=Tablet('samsung','s6 lite','7040 mAh')"
   ]
  },
  {
   "cell_type": "code",
   "execution_count": 79,
   "id": "bd3f3791",
   "metadata": {},
   "outputs": [
    {
     "name": "stdout",
     "output_type": "stream",
     "text": [
      "brand:samsung, model:s6 lite\n",
      "Battery Capacity:7040 mAh\n"
     ]
    }
   ],
   "source": [
    "t1.display_info()"
   ]
  },
  {
   "cell_type": "markdown",
   "id": "60acbc37",
   "metadata": {},
   "source": [
    "#### 10. Create a base class called \"BankAccount\" with attributes like \"account_number\" and \"balance.\" Derive two classes, \"SavingsAccount\" and \"CheckingAccount,\" from \"BankAccount.\" Add specific methods like \"calculate_interest\" for the \"SavingsAccount\" class and \"deduct_fees\" for the \"CheckingAccount\" class."
   ]
  },
  {
   "cell_type": "markdown",
   "id": "ed8379b2",
   "metadata": {},
   "source": [
    "#### Answer:"
   ]
  },
  {
   "cell_type": "code",
   "execution_count": 100,
   "id": "8e2f88a2",
   "metadata": {},
   "outputs": [],
   "source": [
    "class BankAccount:\n",
    "    \n",
    "    def __init__(self,account_number,balance):\n",
    "        self.account_number=account_number\n",
    "        self.balance=balance\n",
    "        \n",
    "    def deposit(self,amount):\n",
    "        self.balance+=amount\n",
    "        \n",
    "    def withdraw(self,amount):\n",
    "        if amount<=self.balance:\n",
    "            self.balance-=amount\n",
    "        else:\n",
    "            print('Insufficient balance')\n",
    "            \n",
    "    \n",
    "    def display_balance(self):\n",
    "        print(f'Balance:{self.balance}')\n",
    "        "
   ]
  },
  {
   "cell_type": "code",
   "execution_count": 101,
   "id": "c173cc33",
   "metadata": {},
   "outputs": [],
   "source": [
    "class SavingsAccount(BankAccount):\n",
    "    \n",
    "    def calculate_interest(self,rate):\n",
    "        interest_amount=self.balance*(rate/100)\n",
    "        print(f'Interest Amount:{interest_amount}')\n",
    "        self.deposit(interest_amount)"
   ]
  },
  {
   "cell_type": "code",
   "execution_count": 102,
   "id": "304f452a",
   "metadata": {},
   "outputs": [],
   "source": [
    "class CheckingAccount(BankAccount):\n",
    "    \n",
    "    def deduct_fees(self,amount):\n",
    "        self.withdraw(amount)"
   ]
  },
  {
   "cell_type": "markdown",
   "id": "e387ad55",
   "metadata": {},
   "source": [
    "###### Savings Account"
   ]
  },
  {
   "cell_type": "code",
   "execution_count": 103,
   "id": "a68d9d61",
   "metadata": {},
   "outputs": [],
   "source": [
    "sa=SavingsAccount('ACC12345',100)"
   ]
  },
  {
   "cell_type": "code",
   "execution_count": 104,
   "id": "a359c7b2",
   "metadata": {},
   "outputs": [
    {
     "name": "stdout",
     "output_type": "stream",
     "text": [
      "Balance:100\n"
     ]
    }
   ],
   "source": [
    "sa.display_balance()"
   ]
  },
  {
   "cell_type": "code",
   "execution_count": 105,
   "id": "29e9355f",
   "metadata": {},
   "outputs": [
    {
     "name": "stdout",
     "output_type": "stream",
     "text": [
      "Interest Amount:2.5\n"
     ]
    }
   ],
   "source": [
    "sa.calculate_interest(2.5)"
   ]
  },
  {
   "cell_type": "code",
   "execution_count": 106,
   "id": "721b6ddd",
   "metadata": {},
   "outputs": [
    {
     "name": "stdout",
     "output_type": "stream",
     "text": [
      "Balance:102.5\n"
     ]
    }
   ],
   "source": [
    "sa.display_balance()"
   ]
  },
  {
   "cell_type": "markdown",
   "id": "39f109b5",
   "metadata": {},
   "source": [
    "##### Checking Account"
   ]
  },
  {
   "cell_type": "code",
   "execution_count": 107,
   "id": "d7722ba4",
   "metadata": {},
   "outputs": [],
   "source": [
    "ca=CheckingAccount('ACC12345',100)"
   ]
  },
  {
   "cell_type": "code",
   "execution_count": 108,
   "id": "a5d397df",
   "metadata": {},
   "outputs": [
    {
     "name": "stdout",
     "output_type": "stream",
     "text": [
      "Balance:100\n"
     ]
    }
   ],
   "source": [
    "ca.display_balance()"
   ]
  },
  {
   "cell_type": "code",
   "execution_count": 109,
   "id": "6c6e695a",
   "metadata": {},
   "outputs": [],
   "source": [
    "ca.deduct_fees(3)"
   ]
  },
  {
   "cell_type": "code",
   "execution_count": 110,
   "id": "41234758",
   "metadata": {},
   "outputs": [
    {
     "name": "stdout",
     "output_type": "stream",
     "text": [
      "Balance:97\n"
     ]
    }
   ],
   "source": [
    "ca.display_balance()"
   ]
  }
 ],
 "metadata": {
  "kernelspec": {
   "display_name": "Python 3 (ipykernel)",
   "language": "python",
   "name": "python3"
  },
  "language_info": {
   "codemirror_mode": {
    "name": "ipython",
    "version": 3
   },
   "file_extension": ".py",
   "mimetype": "text/x-python",
   "name": "python",
   "nbconvert_exporter": "python",
   "pygments_lexer": "ipython3",
   "version": "3.10.9"
  }
 },
 "nbformat": 4,
 "nbformat_minor": 5
}
