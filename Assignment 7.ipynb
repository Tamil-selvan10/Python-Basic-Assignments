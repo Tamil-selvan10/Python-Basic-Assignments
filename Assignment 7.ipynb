{
 "cells": [
  {
   "cell_type": "markdown",
   "id": "4025760b",
   "metadata": {},
   "source": [
    "# Assignment -7"
   ]
  },
  {
   "cell_type": "markdown",
   "id": "6c1fc0b9",
   "metadata": {},
   "source": [
    "1. Create two int type variables, apply addition, subtraction, division and multiplications and store the results in variables. Then print the data in the following format by calling the\n",
    "\n",
    "variables:\n",
    "\n",
    "First variable is __ & second variable is __.\n",
    "\n",
    "Addition: __ + __ = __\n",
    "\n",
    "Subtraction: __ - __ = __\n",
    "\n",
    "Multiplication: __ * __ = __\n",
    "\n",
    "Division: __ / __ = __"
   ]
  },
  {
   "cell_type": "markdown",
   "id": "241f3f6f",
   "metadata": {},
   "source": [
    "#### Answer:"
   ]
  },
  {
   "cell_type": "code",
   "execution_count": 13,
   "id": "aa39c2f2",
   "metadata": {},
   "outputs": [
    {
     "name": "stdout",
     "output_type": "stream",
     "text": [
      "Enter number 1:5\n",
      "Enter number 2:2\n",
      "First variable is 5 & second variable is 2.\n",
      "Addition: 5+2=7\n",
      "Subtraction: 5-2=3\n",
      "Multiplication: 5*2=10\n",
      "Division: 5/2=2.5\n"
     ]
    }
   ],
   "source": [
    "a=int(input('Enter number 1:'))\n",
    "b=int(input('Enter number 2:'))\n",
    "\n",
    "result={'addition': a+b,\n",
    "        'subtraction':a-b,\n",
    "        'multiplication':a*b,\n",
    "        'division':a/b}\n",
    "\n",
    "print(f'First variable is {a} & second variable is {b}.')\n",
    "\n",
    "print(f\"Addition: {a}+{b}={result.get('addition')}\")\n",
    "print(f\"Subtraction: {a}-{b}={result.get('subtraction')}\")\n",
    "print(f\"Multiplication: {a}*{b}={result.get('multiplication')}\")\n",
    "print(f\"Division: {a}/{b}={result.get('division')}\")"
   ]
  },
  {
   "cell_type": "markdown",
   "id": "39e15bfc",
   "metadata": {},
   "source": [
    "### 2.What is the difference between the following operators:\n",
    "\n",
    "(i) ‘/’ & ‘//’\n",
    "\n",
    "(ii) ‘**’ & ‘^’"
   ]
  },
  {
   "cell_type": "markdown",
   "id": "5fcf1fee",
   "metadata": {},
   "source": [
    "#### Answer:"
   ]
  },
  {
   "cell_type": "markdown",
   "id": "12d040fa",
   "metadata": {},
   "source": [
    "### ‘/’ & ‘//\n",
    "- / - division operator. It gives quotient value in Float.\n",
    "- // - floor division operator. It gives quotient value in Integer."
   ]
  },
  {
   "cell_type": "code",
   "execution_count": 17,
   "id": "2d12f4ee",
   "metadata": {},
   "outputs": [
    {
     "name": "stdout",
     "output_type": "stream",
     "text": [
      "5/2=>2.5\n",
      "5//2=>2\n"
     ]
    }
   ],
   "source": [
    "a=5\n",
    "b=2\n",
    "\n",
    "print(f'{a}/{b}=>{a/b}')\n",
    "print(f'{a}//{b}=>{a//b}')"
   ]
  },
  {
   "cell_type": "markdown",
   "id": "9401b592",
   "metadata": {},
   "source": [
    "### ‘**’ & ‘^’\n",
    "\n",
    "- ** - exponential/power operator.\n",
    "- ^  - Bitwise XOR operator"
   ]
  },
  {
   "cell_type": "code",
   "execution_count": 19,
   "id": "1d7aba93",
   "metadata": {},
   "outputs": [
    {
     "name": "stdout",
     "output_type": "stream",
     "text": [
      "5**2=25\n",
      "pow(5,2)=25\n"
     ]
    }
   ],
   "source": [
    "a=5\n",
    "b=2\n",
    "\n",
    "print(f'{a}**{b}={a**b}')\n",
    "print(f'pow({a},{b})={pow(a,b)}')"
   ]
  },
  {
   "cell_type": "code",
   "execution_count": 23,
   "id": "4eac23ce",
   "metadata": {},
   "outputs": [
    {
     "data": {
      "text/plain": [
       "7"
      ]
     },
     "execution_count": 23,
     "metadata": {},
     "output_type": "execute_result"
    }
   ],
   "source": [
    "a=5 # 0101\n",
    "b=2 # 0010\n",
    "\n",
    "#8421\n",
    "#0101\n",
    "#0010\n",
    "#---------\n",
    "#0111\n",
    "#----------\n",
    "a^b"
   ]
  },
  {
   "cell_type": "code",
   "execution_count": 24,
   "id": "8d3a3fee",
   "metadata": {},
   "outputs": [
    {
     "data": {
      "text/plain": [
       "'0b111'"
      ]
     },
     "execution_count": 24,
     "metadata": {},
     "output_type": "execute_result"
    }
   ],
   "source": [
    "bin(7)"
   ]
  },
  {
   "cell_type": "markdown",
   "id": "7ddc5274",
   "metadata": {},
   "source": [
    "#### 3. List the logical operators."
   ]
  },
  {
   "cell_type": "markdown",
   "id": "76932782",
   "metadata": {},
   "source": [
    "#### Answer:"
   ]
  },
  {
   "cell_type": "code",
   "execution_count": 27,
   "id": "22dcacc6",
   "metadata": {},
   "outputs": [
    {
     "name": "stdout",
     "output_type": "stream",
     "text": [
      "AND:True and True=> True\n",
      "AND:True and False=> False\n"
     ]
    }
   ],
   "source": [
    "#### and,or,not\n",
    "print(f'AND:True and True=> {True and True}')\n",
    "print(f'AND:True and False=> {True and False}')"
   ]
  },
  {
   "cell_type": "code",
   "execution_count": 28,
   "id": "17f2fd21",
   "metadata": {},
   "outputs": [
    {
     "name": "stdout",
     "output_type": "stream",
     "text": [
      "OR:True or True=> True\n",
      "OR:True or False=> True\n"
     ]
    }
   ],
   "source": [
    "print(f'OR:True or True=> {True or True}')\n",
    "print(f'OR:True or False=> {True or False}')"
   ]
  },
  {
   "cell_type": "code",
   "execution_count": 29,
   "id": "972128d8",
   "metadata": {},
   "outputs": [
    {
     "name": "stdout",
     "output_type": "stream",
     "text": [
      "NOT:not True=> False\n",
      "NOT:not False=> True\n"
     ]
    }
   ],
   "source": [
    "print(f'NOT:not True=> {not True}')\n",
    "print(f'NOT:not False=> {not False}')"
   ]
  },
  {
   "cell_type": "markdown",
   "id": "4714546b",
   "metadata": {},
   "source": [
    "#### 4.Explain right shift operator and left shift operator with examples."
   ]
  },
  {
   "cell_type": "markdown",
   "id": "1cf87ca2",
   "metadata": {},
   "source": [
    "#### Answer:"
   ]
  },
  {
   "cell_type": "code",
   "execution_count": 30,
   "id": "1707625a",
   "metadata": {},
   "outputs": [
    {
     "data": {
      "text/plain": [
       "2"
      ]
     },
     "execution_count": 30,
     "metadata": {},
     "output_type": "execute_result"
    }
   ],
   "source": [
    "# right shift operator (>>):\n",
    "a=5 # 0101\n",
    "\n",
    "#8421\n",
    "#0101 (original)\n",
    "#00101 (right shift by 1 digit)\n",
    "#-----\n",
    "#0010\n",
    "#----\n",
    "\n",
    "a>>1"
   ]
  },
  {
   "cell_type": "code",
   "execution_count": 31,
   "id": "1097abeb",
   "metadata": {},
   "outputs": [
    {
     "data": {
      "text/plain": [
       "'0b10'"
      ]
     },
     "execution_count": 31,
     "metadata": {},
     "output_type": "execute_result"
    }
   ],
   "source": [
    "bin(2)"
   ]
  },
  {
   "cell_type": "code",
   "execution_count": 32,
   "id": "6f5a3f6b",
   "metadata": {},
   "outputs": [
    {
     "data": {
      "text/plain": [
       "10"
      ]
     },
     "execution_count": 32,
     "metadata": {},
     "output_type": "execute_result"
    }
   ],
   "source": [
    "# left shift operator (<<):\n",
    "a=5 #0101\n",
    "\n",
    "#16 8 4 2 1\n",
    "#   0 1 0 1 (original)\n",
    "#0  1 0 1 0 (left shift by 1 digit)\n",
    "#-----------------------\n",
    "#01010\n",
    "#--------------------------\n",
    "a<<1"
   ]
  },
  {
   "cell_type": "code",
   "execution_count": 33,
   "id": "56a6ad46",
   "metadata": {},
   "outputs": [
    {
     "data": {
      "text/plain": [
       "'0b1010'"
      ]
     },
     "execution_count": 33,
     "metadata": {},
     "output_type": "execute_result"
    }
   ],
   "source": [
    "bin(10)"
   ]
  },
  {
   "cell_type": "markdown",
   "id": "bf998f8e",
   "metadata": {},
   "source": [
    "#### 5. Create a list containing int type data of length 15. Then write a code to check if 10 is present in the list or not."
   ]
  },
  {
   "cell_type": "markdown",
   "id": "daa85586",
   "metadata": {},
   "source": [
    "#### Answer:"
   ]
  },
  {
   "cell_type": "code",
   "execution_count": 34,
   "id": "6ebec71b",
   "metadata": {},
   "outputs": [
    {
     "data": {
      "text/plain": [
       "[0, 1, 2, 3, 4, 5, 6, 7, 8, 9, 10, 11, 12, 13, 14]"
      ]
     },
     "execution_count": 34,
     "metadata": {},
     "output_type": "execute_result"
    }
   ],
   "source": [
    "l=[i for i in range(15)]\n",
    "l"
   ]
  },
  {
   "cell_type": "code",
   "execution_count": 35,
   "id": "10a2bec0",
   "metadata": {},
   "outputs": [
    {
     "data": {
      "text/plain": [
       "True"
      ]
     },
     "execution_count": 35,
     "metadata": {},
     "output_type": "execute_result"
    }
   ],
   "source": [
    "10 in l"
   ]
  },
  {
   "cell_type": "code",
   "execution_count": null,
   "id": "f459e557",
   "metadata": {},
   "outputs": [],
   "source": []
  },
  {
   "cell_type": "code",
   "execution_count": null,
   "id": "27bb774a",
   "metadata": {},
   "outputs": [],
   "source": []
  }
 ],
 "metadata": {
  "kernelspec": {
   "display_name": "Python 3 (ipykernel)",
   "language": "python",
   "name": "python3"
  },
  "language_info": {
   "codemirror_mode": {
    "name": "ipython",
    "version": 3
   },
   "file_extension": ".py",
   "mimetype": "text/x-python",
   "name": "python",
   "nbconvert_exporter": "python",
   "pygments_lexer": "ipython3",
   "version": "3.10.9"
  }
 },
 "nbformat": 4,
 "nbformat_minor": 5
}
