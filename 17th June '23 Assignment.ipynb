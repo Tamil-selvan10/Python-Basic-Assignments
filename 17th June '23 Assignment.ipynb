{
 "cells": [
  {
   "cell_type": "markdown",
   "id": "51cd674e",
   "metadata": {},
   "source": [
    "#### Assignments"
   ]
  },
  {
   "cell_type": "markdown",
   "id": "0ed2d6a0",
   "metadata": {},
   "source": [
    "#### 1.What is the role of try and exception block?"
   ]
  },
  {
   "cell_type": "markdown",
   "id": "a969668a",
   "metadata": {},
   "source": [
    "#### Answer:"
   ]
  },
  {
   "cell_type": "code",
   "execution_count": null,
   "id": "f36490bb",
   "metadata": {},
   "outputs": [],
   "source": [
    "The \"try\" block is used to enclose the code that might raise an exception.\n",
    "The \"except\" block defines the actions to be taken when a specific exception occurs,preventing the program from crashing and providing alternative actions or error messages."
   ]
  },
  {
   "cell_type": "markdown",
   "id": "f0e73be6",
   "metadata": {},
   "source": [
    "#### 2.What is the syntax for a basic try-except block?"
   ]
  },
  {
   "cell_type": "markdown",
   "id": "e779aee9",
   "metadata": {},
   "source": [
    "#### Answer:"
   ]
  },
  {
   "cell_type": "code",
   "execution_count": null,
   "id": "53eb36f6",
   "metadata": {},
   "outputs": [],
   "source": [
    "try:\n",
    "    \n",
    "    # code that may raise an exception\n",
    "    \n",
    "except:\n",
    "    \n",
    "    # code that handles the exception"
   ]
  },
  {
   "cell_type": "markdown",
   "id": "8d5d3521",
   "metadata": {},
   "source": [
    "#### 3.What happens if an exception occurs inside a try block and there is no matching except block?"
   ]
  },
  {
   "cell_type": "markdown",
   "id": "e4080cc9",
   "metadata": {},
   "source": [
    "#### Answer:"
   ]
  },
  {
   "cell_type": "code",
   "execution_count": null,
   "id": "690f56ef",
   "metadata": {},
   "outputs": [],
   "source": [
    "If an exception occurs inside a \"try\" block and there is no matching \"except\" block to handle that specific exception,\n",
    "the program will terminate, an error message(traceback) will be displayed.\n",
    "This error message will show the type of exception that occured,along with the line number and the stack trace leading to the point where the exception was raised."
   ]
  },
  {
   "cell_type": "code",
   "execution_count": 6,
   "id": "930a318a",
   "metadata": {},
   "outputs": [],
   "source": [
    "def func():\n",
    "    try:\n",
    "        x=int(input('Enter number 1:'))\n",
    "        y=int(input('Enter number 2:'))\n",
    "        z=x/y\n",
    "        print(f'z:{z}')\n",
    "        \n",
    "    except ZeroDivisionError:\n",
    "        print(f'zerodivision error occured:x={x} and y={y}')"
   ]
  },
  {
   "cell_type": "code",
   "execution_count": 7,
   "id": "32ba2381",
   "metadata": {},
   "outputs": [
    {
     "name": "stdout",
     "output_type": "stream",
     "text": [
      "Enter number 1:4\n",
      "Enter number 2:2\n",
      "z:2.0\n"
     ]
    }
   ],
   "source": [
    "func()"
   ]
  },
  {
   "cell_type": "code",
   "execution_count": 8,
   "id": "7c592ec9",
   "metadata": {},
   "outputs": [
    {
     "name": "stdout",
     "output_type": "stream",
     "text": [
      "Enter number 1:4\n",
      "Enter number 2:2.5\n"
     ]
    },
    {
     "ename": "ValueError",
     "evalue": "invalid literal for int() with base 10: '2.5'",
     "output_type": "error",
     "traceback": [
      "\u001b[1;31m---------------------------------------------------------------------------\u001b[0m",
      "\u001b[1;31mValueError\u001b[0m                                Traceback (most recent call last)",
      "Cell \u001b[1;32mIn[8], line 1\u001b[0m\n\u001b[1;32m----> 1\u001b[0m \u001b[43mfunc\u001b[49m\u001b[43m(\u001b[49m\u001b[43m)\u001b[49m\n",
      "Cell \u001b[1;32mIn[6], line 4\u001b[0m, in \u001b[0;36mfunc\u001b[1;34m()\u001b[0m\n\u001b[0;32m      2\u001b[0m \u001b[38;5;28;01mtry\u001b[39;00m:\n\u001b[0;32m      3\u001b[0m     x\u001b[38;5;241m=\u001b[39m\u001b[38;5;28mint\u001b[39m(\u001b[38;5;28minput\u001b[39m(\u001b[38;5;124m'\u001b[39m\u001b[38;5;124mEnter number 1:\u001b[39m\u001b[38;5;124m'\u001b[39m))\n\u001b[1;32m----> 4\u001b[0m     y\u001b[38;5;241m=\u001b[39m\u001b[38;5;28;43mint\u001b[39;49m\u001b[43m(\u001b[49m\u001b[38;5;28;43minput\u001b[39;49m\u001b[43m(\u001b[49m\u001b[38;5;124;43m'\u001b[39;49m\u001b[38;5;124;43mEnter number 2:\u001b[39;49m\u001b[38;5;124;43m'\u001b[39;49m\u001b[43m)\u001b[49m\u001b[43m)\u001b[49m\n\u001b[0;32m      5\u001b[0m     z\u001b[38;5;241m=\u001b[39mx\u001b[38;5;241m/\u001b[39my\n\u001b[0;32m      6\u001b[0m     \u001b[38;5;28mprint\u001b[39m(\u001b[38;5;124mf\u001b[39m\u001b[38;5;124m'\u001b[39m\u001b[38;5;124mz:\u001b[39m\u001b[38;5;132;01m{\u001b[39;00mz\u001b[38;5;132;01m}\u001b[39;00m\u001b[38;5;124m'\u001b[39m)\n",
      "\u001b[1;31mValueError\u001b[0m: invalid literal for int() with base 10: '2.5'"
     ]
    }
   ],
   "source": [
    "func()"
   ]
  },
  {
   "cell_type": "markdown",
   "id": "8a8c2dd6",
   "metadata": {},
   "source": [
    "#### 4.What is the difference between using a bare except block and specifying a specific exception type?"
   ]
  },
  {
   "cell_type": "markdown",
   "id": "b23886b8",
   "metadata": {},
   "source": [
    "#### Answer:"
   ]
  },
  {
   "cell_type": "code",
   "execution_count": null,
   "id": "5d34e75a",
   "metadata": {},
   "outputs": [],
   "source": [
    "using the bare \"except\" block catches any type of exception,potentially supressing useful error information.\n",
    "while specifying a specific exception type allows targeted handling of particular exceptions,providing better control and error resolution."
   ]
  },
  {
   "cell_type": "markdown",
   "id": "6306616b",
   "metadata": {},
   "source": [
    "#### 5.Can you have nested try-except blocks in Python? If yes, then give an example."
   ]
  },
  {
   "cell_type": "markdown",
   "id": "d6183de9",
   "metadata": {},
   "source": [
    "#### Answer:"
   ]
  },
  {
   "cell_type": "code",
   "execution_count": 22,
   "id": "ca409c5a",
   "metadata": {},
   "outputs": [],
   "source": [
    "def add_numbers(a,b):\n",
    "    try:\n",
    "        result=a+b\n",
    "        return result\n",
    "        \n",
    "    except Exception as e:\n",
    "        print(type(e).__name__,':',e)"
   ]
  },
  {
   "cell_type": "code",
   "execution_count": 23,
   "id": "4290418b",
   "metadata": {},
   "outputs": [
    {
     "name": "stdout",
     "output_type": "stream",
     "text": [
      "Enter number 1:2\n",
      "Enter number 2:3\n",
      "result:=5\n"
     ]
    }
   ],
   "source": [
    "try:\n",
    "    \n",
    "    num1=int(input('Enter number 1:'))\n",
    "    num2=int(input('Enter number 2:'))\n",
    "    result=add_numbers(num1,num2)\n",
    "    print(f'result:={result}')\n",
    "    \n",
    "except Exception as e:\n",
    "    print(type(e).__name__,':',e)"
   ]
  },
  {
   "cell_type": "markdown",
   "id": "5e883f13",
   "metadata": {},
   "source": [
    "#### 6.Can we use multiple exception blocks, if yes then give an example."
   ]
  },
  {
   "cell_type": "markdown",
   "id": "ed7ad7d8",
   "metadata": {},
   "source": [
    "#### Answer:"
   ]
  },
  {
   "cell_type": "code",
   "execution_count": 24,
   "id": "1302bbf3",
   "metadata": {},
   "outputs": [],
   "source": [
    "def divide_numbers():\n",
    "    try:\n",
    "        num1=int(input('Enter number 1:'))\n",
    "        num2=int(input('Enter number 2:'))\n",
    "        return num1/num2\n",
    "        \n",
    "    except ValueError:\n",
    "        return 'ValueError Occured'\n",
    "        \n",
    "    except ZeroDivisionError:\n",
    "        return 'ZeroDivisionError occured'"
   ]
  },
  {
   "cell_type": "code",
   "execution_count": 26,
   "id": "fa111381",
   "metadata": {},
   "outputs": [
    {
     "name": "stdout",
     "output_type": "stream",
     "text": [
      "Enter number 1:4\n",
      "Enter number 2:2.5\n"
     ]
    },
    {
     "data": {
      "text/plain": [
       "'ValueError Occured'"
      ]
     },
     "execution_count": 26,
     "metadata": {},
     "output_type": "execute_result"
    }
   ],
   "source": [
    "divide_numbers()"
   ]
  },
  {
   "cell_type": "code",
   "execution_count": 27,
   "id": "47db22c2",
   "metadata": {},
   "outputs": [
    {
     "name": "stdout",
     "output_type": "stream",
     "text": [
      "Enter number 1:4\n",
      "Enter number 2:0\n"
     ]
    },
    {
     "data": {
      "text/plain": [
       "'ZeroDivisionError occured'"
      ]
     },
     "execution_count": 27,
     "metadata": {},
     "output_type": "execute_result"
    }
   ],
   "source": [
    "divide_numbers()"
   ]
  },
  {
   "cell_type": "markdown",
   "id": "872725a7",
   "metadata": {},
   "source": [
    "#### 7. Write the reason due to which following errors are raised:\n",
    "a. EOFError\n",
    "\n",
    "b. FloatingPointError\n",
    "\n",
    "c. IndexError\n",
    "\n",
    "d. MemoryError\n",
    "\n",
    "e. OverflowError\n",
    "\n",
    "f. TabError\n",
    "\n",
    "g. ValueError"
   ]
  },
  {
   "cell_type": "markdown",
   "id": "6eef4706",
   "metadata": {},
   "source": [
    "##### a. EOFError"
   ]
  },
  {
   "cell_type": "code",
   "execution_count": null,
   "id": "91461c88",
   "metadata": {},
   "outputs": [],
   "source": [
    "Raised when an input function reaches the end of file unexpectedly."
   ]
  },
  {
   "cell_type": "markdown",
   "id": "cb72a2e9",
   "metadata": {},
   "source": [
    "##### b.FloatingPointError"
   ]
  },
  {
   "cell_type": "code",
   "execution_count": null,
   "id": "f7d28664",
   "metadata": {},
   "outputs": [],
   "source": [
    "occurs when there is an error in floating-point arithmetic,like division by zero."
   ]
  },
  {
   "cell_type": "markdown",
   "id": "381a88af",
   "metadata": {},
   "source": [
    "##### c. IndexError"
   ]
  },
  {
   "cell_type": "code",
   "execution_count": null,
   "id": "7c319661",
   "metadata": {},
   "outputs": [],
   "source": [
    "Raised when trying to access an index that is out of range for a sequence."
   ]
  },
  {
   "cell_type": "markdown",
   "id": "47c902ec",
   "metadata": {},
   "source": [
    "##### d. MemoryError"
   ]
  },
  {
   "cell_type": "code",
   "execution_count": null,
   "id": "72494db8",
   "metadata": {},
   "outputs": [],
   "source": [
    "Raised when the program runs out of available memory."
   ]
  },
  {
   "cell_type": "markdown",
   "id": "a9229620",
   "metadata": {},
   "source": [
    "##### f. TabError"
   ]
  },
  {
   "cell_type": "code",
   "execution_count": null,
   "id": "c7519271",
   "metadata": {},
   "outputs": [],
   "source": [
    "Raised when there are inconsistencies in using tabs and spaces for indentation."
   ]
  },
  {
   "cell_type": "markdown",
   "id": "a1a854c1",
   "metadata": {},
   "source": [
    "##### g. ValueError"
   ]
  },
  {
   "cell_type": "code",
   "execution_count": null,
   "id": "20d62989",
   "metadata": {},
   "outputs": [],
   "source": [
    "Raised when an operation receives an argument with the correct type but inappropriate value."
   ]
  },
  {
   "cell_type": "markdown",
   "id": "ce50f43c",
   "metadata": {},
   "source": [
    "#### 8. Write code for the following given scenario and add try-exception block to it.\n",
    "a. Program to divide two numbers\n",
    "\n",
    "b. Program to convert a string to an integer\n",
    "\n",
    "c. Program to access an element in a list\n",
    "\n",
    "d. Program to handle a specific exception\n",
    "\n",
    "e. Program to handle any exception"
   ]
  },
  {
   "cell_type": "markdown",
   "id": "571cb524",
   "metadata": {},
   "source": [
    "#### a. Program to divide two numbers"
   ]
  },
  {
   "cell_type": "code",
   "execution_count": 28,
   "id": "85e1477c",
   "metadata": {},
   "outputs": [],
   "source": [
    "def divide_numbers(a,b):\n",
    "    try:        \n",
    "        return a/b\n",
    "        \n",
    "    except Exception as e:\n",
    "        print(type(e).__name__,':',e)"
   ]
  },
  {
   "cell_type": "code",
   "execution_count": 29,
   "id": "51e32c58",
   "metadata": {},
   "outputs": [
    {
     "data": {
      "text/plain": [
       "2.0"
      ]
     },
     "execution_count": 29,
     "metadata": {},
     "output_type": "execute_result"
    }
   ],
   "source": [
    "divide_numbers(4,2)"
   ]
  },
  {
   "cell_type": "code",
   "execution_count": 32,
   "id": "92eaabd1",
   "metadata": {},
   "outputs": [
    {
     "name": "stdout",
     "output_type": "stream",
     "text": [
      "ZeroDivisionError : division by zero\n"
     ]
    }
   ],
   "source": [
    "divide_numbers(4,0)"
   ]
  },
  {
   "cell_type": "markdown",
   "id": "4e34a370",
   "metadata": {},
   "source": [
    "#### b. Program to convert a string to an integer"
   ]
  },
  {
   "cell_type": "code",
   "execution_count": 33,
   "id": "b957389a",
   "metadata": {},
   "outputs": [],
   "source": [
    "def convert_str_to_int(s):\n",
    "    try:\n",
    "        \n",
    "        return int(s)\n",
    "        \n",
    "    except Exception as e:\n",
    "        print(type(e).__name__,':',e)"
   ]
  },
  {
   "cell_type": "code",
   "execution_count": 34,
   "id": "33190cfb",
   "metadata": {},
   "outputs": [
    {
     "data": {
      "text/plain": [
       "27"
      ]
     },
     "execution_count": 34,
     "metadata": {},
     "output_type": "execute_result"
    }
   ],
   "source": [
    "convert_str_to_int('27')"
   ]
  },
  {
   "cell_type": "code",
   "execution_count": 35,
   "id": "ace7bc7c",
   "metadata": {},
   "outputs": [
    {
     "name": "stdout",
     "output_type": "stream",
     "text": [
      "ValueError : invalid literal for int() with base 10: 'hello'\n"
     ]
    }
   ],
   "source": [
    "convert_str_to_int('hello')"
   ]
  },
  {
   "cell_type": "markdown",
   "id": "5bc9c84a",
   "metadata": {},
   "source": [
    "#### c. Program to access an element in a list"
   ]
  },
  {
   "cell_type": "code",
   "execution_count": 49,
   "id": "4c6a83a2",
   "metadata": {},
   "outputs": [],
   "source": [
    "def f(n):\n",
    "    try:\n",
    "        l=[1,2,3,4,5]\n",
    "        print(l[n])\n",
    "        \n",
    "    except Exception as e:\n",
    "        print(type(e).__name__,':',e)"
   ]
  },
  {
   "cell_type": "code",
   "execution_count": 50,
   "id": "128c3a38",
   "metadata": {},
   "outputs": [
    {
     "name": "stdout",
     "output_type": "stream",
     "text": [
      "2\n"
     ]
    }
   ],
   "source": [
    "f(1)"
   ]
  },
  {
   "cell_type": "code",
   "execution_count": 48,
   "id": "8c9ab1ec",
   "metadata": {},
   "outputs": [
    {
     "name": "stdout",
     "output_type": "stream",
     "text": [
      "IndexError : list index out of range\n"
     ]
    }
   ],
   "source": [
    "f(5)"
   ]
  },
  {
   "cell_type": "markdown",
   "id": "584669ab",
   "metadata": {},
   "source": [
    "#### d. Program to handle a specific exception"
   ]
  },
  {
   "cell_type": "code",
   "execution_count": 38,
   "id": "4c111f5c",
   "metadata": {},
   "outputs": [],
   "source": [
    "def divide_numbers(a,b):\n",
    "    try:\n",
    "        \n",
    "        return a/b\n",
    "        \n",
    "    except ZeroDivisionError:\n",
    "        print(f'ZeroDivisionError Occured: a={a} and b={b}')\n",
    "        \n",
    "    "
   ]
  },
  {
   "cell_type": "code",
   "execution_count": 39,
   "id": "230f7c5e",
   "metadata": {},
   "outputs": [
    {
     "data": {
      "text/plain": [
       "2.0"
      ]
     },
     "execution_count": 39,
     "metadata": {},
     "output_type": "execute_result"
    }
   ],
   "source": [
    "divide_numbers(4,2)"
   ]
  },
  {
   "cell_type": "code",
   "execution_count": 40,
   "id": "6330c81f",
   "metadata": {},
   "outputs": [
    {
     "name": "stdout",
     "output_type": "stream",
     "text": [
      "ZeroDivisionError Occured: a=1 and b=0\n"
     ]
    }
   ],
   "source": [
    "divide_numbers(1,0)"
   ]
  },
  {
   "cell_type": "markdown",
   "id": "b5cbf8e2",
   "metadata": {},
   "source": [
    "#### e. Program to handle any exception"
   ]
  },
  {
   "cell_type": "code",
   "execution_count": 41,
   "id": "fb35a4b3",
   "metadata": {},
   "outputs": [],
   "source": [
    "def divide_numbers(a,b):\n",
    "    try:\n",
    "        return a/b\n",
    "        \n",
    "    except Exception as e:\n",
    "        print(type(e).__name__,':',e)"
   ]
  },
  {
   "cell_type": "code",
   "execution_count": 42,
   "id": "28ad9260",
   "metadata": {},
   "outputs": [
    {
     "data": {
      "text/plain": [
       "2.0"
      ]
     },
     "execution_count": 42,
     "metadata": {},
     "output_type": "execute_result"
    }
   ],
   "source": [
    "divide_numbers(4,2)"
   ]
  },
  {
   "cell_type": "code",
   "execution_count": 43,
   "id": "0eb35186",
   "metadata": {},
   "outputs": [
    {
     "name": "stdout",
     "output_type": "stream",
     "text": [
      "ZeroDivisionError : division by zero\n"
     ]
    }
   ],
   "source": [
    "divide_numbers(1,0)"
   ]
  },
  {
   "cell_type": "code",
   "execution_count": 44,
   "id": "38c94329",
   "metadata": {},
   "outputs": [
    {
     "name": "stdout",
     "output_type": "stream",
     "text": [
      "TypeError : unsupported operand type(s) for /: 'int' and 'str'\n"
     ]
    }
   ],
   "source": [
    "divide_numbers(1,'s')"
   ]
  },
  {
   "cell_type": "code",
   "execution_count": null,
   "id": "b607c7df",
   "metadata": {},
   "outputs": [],
   "source": []
  }
 ],
 "metadata": {
  "kernelspec": {
   "display_name": "Python 3 (ipykernel)",
   "language": "python",
   "name": "python3"
  },
  "language_info": {
   "codemirror_mode": {
    "name": "ipython",
    "version": 3
   },
   "file_extension": ".py",
   "mimetype": "text/x-python",
   "name": "python",
   "nbconvert_exporter": "python",
   "pygments_lexer": "ipython3",
   "version": "3.10.9"
  }
 },
 "nbformat": 4,
 "nbformat_minor": 5
}
