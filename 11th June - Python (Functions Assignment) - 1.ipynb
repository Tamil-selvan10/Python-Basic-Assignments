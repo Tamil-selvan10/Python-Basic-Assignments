{
 "cells": [
  {
   "cell_type": "markdown",
   "id": "cbab3c2a",
   "metadata": {},
   "source": [
    "### Assignments"
   ]
  },
  {
   "cell_type": "markdown",
   "id": "f70eb82c",
   "metadata": {},
   "source": [
    "##### 1.What is a lambda function in Python, and how does it differ from a regular function?"
   ]
  },
  {
   "cell_type": "markdown",
   "id": "34926cd2",
   "metadata": {},
   "source": [
    "#### Answer:"
   ]
  },
  {
   "cell_type": "markdown",
   "id": "63789c5a",
   "metadata": {},
   "source": [
    "A lambda function in python is an anonymous, concise function defined using the \"lambda\" keyword.\n",
    "While a regular function is a named, more extensive function defined using the \"def\" keyword."
   ]
  },
  {
   "cell_type": "markdown",
   "id": "a2ac5c93",
   "metadata": {},
   "source": [
    "##### 2.Can a lambda function in Python have multiple arguments? If yes, how can you define and use them?"
   ]
  },
  {
   "cell_type": "markdown",
   "id": "1cce8812",
   "metadata": {},
   "source": [
    "#### Answer:"
   ]
  },
  {
   "cell_type": "code",
   "execution_count": null,
   "id": "1edde9fe",
   "metadata": {},
   "outputs": [],
   "source": [
    "Yes, a lambda function in python can have multiple arguments. \n",
    "You can define and use them in the lambda function by specifying the arguments separated by commas after \"lambda\" keyword."
   ]
  },
  {
   "cell_type": "code",
   "execution_count": 2,
   "id": "4436f599",
   "metadata": {},
   "outputs": [
    {
     "data": {
      "text/plain": [
       "6"
      ]
     },
     "execution_count": 2,
     "metadata": {},
     "output_type": "execute_result"
    }
   ],
   "source": [
    "add=lambda a,b,c:(a+b+c)\n",
    "add(1,2,3)"
   ]
  },
  {
   "cell_type": "markdown",
   "id": "0cef6c1a",
   "metadata": {},
   "source": [
    "#### 3.How are lambda functions typically used in Python? Provide an example use case."
   ]
  },
  {
   "cell_type": "markdown",
   "id": "8ec7a201",
   "metadata": {},
   "source": [
    "#### Answer:"
   ]
  },
  {
   "cell_type": "code",
   "execution_count": null,
   "id": "95df6bf3",
   "metadata": {},
   "outputs": [],
   "source": [
    "Lambda functions in python are typically used for short,one-line functions in situations where a named function is not required.\n",
    "They are often used with functions like \"map()\" and \"filter()\"."
   ]
  },
  {
   "cell_type": "code",
   "execution_count": 3,
   "id": "760d7940",
   "metadata": {},
   "outputs": [
    {
     "data": {
      "text/plain": [
       "[1, 2, 3, 4, 5]"
      ]
     },
     "execution_count": 3,
     "metadata": {},
     "output_type": "execute_result"
    }
   ],
   "source": [
    "num=[i for i in range(1,6)]\n",
    "num"
   ]
  },
  {
   "cell_type": "code",
   "execution_count": 4,
   "id": "bca8e96a",
   "metadata": {},
   "outputs": [
    {
     "data": {
      "text/plain": [
       "[1, 4, 9, 16, 25]"
      ]
     },
     "execution_count": 4,
     "metadata": {},
     "output_type": "execute_result"
    }
   ],
   "source": [
    "list(map(lambda n:n*n,num))"
   ]
  },
  {
   "cell_type": "code",
   "execution_count": 5,
   "id": "70d064e6",
   "metadata": {},
   "outputs": [
    {
     "data": {
      "text/plain": [
       "[2, 4]"
      ]
     },
     "execution_count": 5,
     "metadata": {},
     "output_type": "execute_result"
    }
   ],
   "source": [
    "list(filter(lambda n:n%2==0,num))"
   ]
  },
  {
   "cell_type": "markdown",
   "id": "3ce09365",
   "metadata": {},
   "source": [
    "#### 4. What are the advantages and limitations of lambda functions compared to regular functions in Python?"
   ]
  },
  {
   "cell_type": "markdown",
   "id": "9346664a",
   "metadata": {},
   "source": [
    "#### Answer:"
   ]
  },
  {
   "cell_type": "markdown",
   "id": "16c89335",
   "metadata": {},
   "source": [
    "#### Advantages of lambda functions:"
   ]
  },
  {
   "cell_type": "code",
   "execution_count": null,
   "id": "9a702b79",
   "metadata": {},
   "outputs": [],
   "source": [
    "1.concise syntax for simple functions\n",
    "2.Anonymity avoid the need for naming functions for one-off use\n",
    "3.Handy for use with functions like \"map()\" and \"filter()\""
   ]
  },
  {
   "cell_type": "markdown",
   "id": "e5bfe74a",
   "metadata": {},
   "source": [
    "#### Limitations of lambda functions"
   ]
  },
  {
   "cell_type": "code",
   "execution_count": null,
   "id": "d2d34642",
   "metadata": {},
   "outputs": [],
   "source": [
    "1.Limited to single expressions,restricting complex logic\n",
    "2.cannot contain statments,making them less versatile\n",
    "3.Reduced readability when used excessively or for complex operations"
   ]
  },
  {
   "cell_type": "markdown",
   "id": "8c42a58a",
   "metadata": {},
   "source": [
    "#### 5.Are lambda functions in Python able to access variables defined outside of their own scope? Explain with an example."
   ]
  },
  {
   "cell_type": "markdown",
   "id": "3b89038d",
   "metadata": {},
   "source": [
    "#### Answer:"
   ]
  },
  {
   "cell_type": "code",
   "execution_count": null,
   "id": "307aa893",
   "metadata": {},
   "outputs": [],
   "source": [
    "Yes,lambda functions in python can access variables defined outside of their own scope."
   ]
  },
  {
   "cell_type": "code",
   "execution_count": 6,
   "id": "5edfa223",
   "metadata": {},
   "outputs": [],
   "source": [
    "def func(n):\n",
    "    return lambda x:x*n"
   ]
  },
  {
   "cell_type": "code",
   "execution_count": 7,
   "id": "4aeff141",
   "metadata": {},
   "outputs": [],
   "source": [
    "m_2=func(2)"
   ]
  },
  {
   "cell_type": "code",
   "execution_count": 8,
   "id": "497bf9d5",
   "metadata": {},
   "outputs": [],
   "source": [
    "m_5=func(5)"
   ]
  },
  {
   "cell_type": "code",
   "execution_count": 9,
   "id": "76aad238",
   "metadata": {},
   "outputs": [
    {
     "data": {
      "text/plain": [
       "20"
      ]
     },
     "execution_count": 9,
     "metadata": {},
     "output_type": "execute_result"
    }
   ],
   "source": [
    "m_2(10)"
   ]
  },
  {
   "cell_type": "code",
   "execution_count": 10,
   "id": "eda9ea89",
   "metadata": {},
   "outputs": [
    {
     "data": {
      "text/plain": [
       "50"
      ]
     },
     "execution_count": 10,
     "metadata": {},
     "output_type": "execute_result"
    }
   ],
   "source": [
    "m_5(10)"
   ]
  },
  {
   "cell_type": "markdown",
   "id": "3cb37a12",
   "metadata": {},
   "source": [
    "#### 6.Write a lambda function to calculate the square of a given number."
   ]
  },
  {
   "cell_type": "markdown",
   "id": "3a551acf",
   "metadata": {},
   "source": [
    "#### Answer:"
   ]
  },
  {
   "cell_type": "code",
   "execution_count": 11,
   "id": "eede9d33",
   "metadata": {},
   "outputs": [],
   "source": [
    "cal_square=lambda n:n*n"
   ]
  },
  {
   "cell_type": "code",
   "execution_count": 12,
   "id": "e5f56917",
   "metadata": {},
   "outputs": [
    {
     "data": {
      "text/plain": [
       "25"
      ]
     },
     "execution_count": 12,
     "metadata": {},
     "output_type": "execute_result"
    }
   ],
   "source": [
    "cal_square(5)"
   ]
  },
  {
   "cell_type": "markdown",
   "id": "1ed36527",
   "metadata": {},
   "source": [
    "#### 7.Create a lambda function to find the maximum value in a list of integers."
   ]
  },
  {
   "cell_type": "markdown",
   "id": "56dddf6e",
   "metadata": {},
   "source": [
    "#### Answer:"
   ]
  },
  {
   "cell_type": "code",
   "execution_count": 18,
   "id": "5b081805",
   "metadata": {},
   "outputs": [],
   "source": [
    "max_num=lambda n:max(n)"
   ]
  },
  {
   "cell_type": "code",
   "execution_count": 19,
   "id": "f620c521",
   "metadata": {},
   "outputs": [
    {
     "data": {
      "text/plain": [
       "5"
      ]
     },
     "execution_count": 19,
     "metadata": {},
     "output_type": "execute_result"
    }
   ],
   "source": [
    "max_num([1,2,3,4,5])"
   ]
  },
  {
   "cell_type": "markdown",
   "id": "92425fca",
   "metadata": {},
   "source": [
    "#### 8.Implement a lambda function to filter out all the even numbers from a list of integers."
   ]
  },
  {
   "cell_type": "markdown",
   "id": "134f6711",
   "metadata": {},
   "source": [
    "#### Answer:"
   ]
  },
  {
   "cell_type": "code",
   "execution_count": 21,
   "id": "8c3e06ab",
   "metadata": {},
   "outputs": [
    {
     "data": {
      "text/plain": [
       "[1, 2, 3, 4, 5]"
      ]
     },
     "execution_count": 21,
     "metadata": {},
     "output_type": "execute_result"
    }
   ],
   "source": [
    "num=[1,2,3,4,5]\n",
    "num"
   ]
  },
  {
   "cell_type": "code",
   "execution_count": 23,
   "id": "76739bf5",
   "metadata": {},
   "outputs": [
    {
     "data": {
      "text/plain": [
       "[2, 4]"
      ]
     },
     "execution_count": 23,
     "metadata": {},
     "output_type": "execute_result"
    }
   ],
   "source": [
    "list(filter(lambda n:n%2==0,num))"
   ]
  },
  {
   "cell_type": "markdown",
   "id": "a33011c9",
   "metadata": {},
   "source": [
    "#### 9.Write a lambda function to sort a list of strings in ascending order based on the length of each string."
   ]
  },
  {
   "cell_type": "markdown",
   "id": "cc7692e7",
   "metadata": {},
   "source": [
    "#### Answer:"
   ]
  },
  {
   "cell_type": "code",
   "execution_count": 33,
   "id": "fb33e30b",
   "metadata": {},
   "outputs": [],
   "source": [
    "sort_string=lambda n:sorted(n,key=len)"
   ]
  },
  {
   "cell_type": "code",
   "execution_count": 34,
   "id": "aadd4a1c",
   "metadata": {},
   "outputs": [],
   "source": [
    "l=['red','green','blue','yellow']"
   ]
  },
  {
   "cell_type": "code",
   "execution_count": 35,
   "id": "9e392a87",
   "metadata": {},
   "outputs": [
    {
     "data": {
      "text/plain": [
       "['red', 'blue', 'green', 'yellow']"
      ]
     },
     "execution_count": 35,
     "metadata": {},
     "output_type": "execute_result"
    }
   ],
   "source": [
    "sort_string(l)"
   ]
  },
  {
   "cell_type": "markdown",
   "id": "6801a49f",
   "metadata": {},
   "source": [
    "#### 10.Create a lambda function that takes two lists as input and returns a new list containing the common elements between the two lists."
   ]
  },
  {
   "cell_type": "markdown",
   "id": "d99b5f75",
   "metadata": {},
   "source": [
    "#### Answer:"
   ]
  },
  {
   "cell_type": "code",
   "execution_count": 40,
   "id": "0db2d2ac",
   "metadata": {},
   "outputs": [],
   "source": [
    "l1=[1,2,3,4,5,6,7,8]\n",
    "l2=[9,10,11,4,2,12]"
   ]
  },
  {
   "cell_type": "code",
   "execution_count": 41,
   "id": "e123d894",
   "metadata": {},
   "outputs": [
    {
     "data": {
      "text/plain": [
       "[4, 2]"
      ]
     },
     "execution_count": 41,
     "metadata": {},
     "output_type": "execute_result"
    }
   ],
   "source": [
    "list(filter(lambda x:x in l1,l2))"
   ]
  },
  {
   "cell_type": "markdown",
   "id": "e75bcf90",
   "metadata": {},
   "source": [
    "#### 11.Write a recursive function to calculate the factorial of a given positive integer."
   ]
  },
  {
   "cell_type": "markdown",
   "id": "7bf6b037",
   "metadata": {},
   "source": [
    "#### Answer:"
   ]
  },
  {
   "cell_type": "code",
   "execution_count": 42,
   "id": "2fe55c0b",
   "metadata": {},
   "outputs": [],
   "source": [
    "def factorial(n):\n",
    "    if n==0:\n",
    "        return 1\n",
    "    else:\n",
    "        return n*factorial(n-1)"
   ]
  },
  {
   "cell_type": "code",
   "execution_count": 44,
   "id": "e9500071",
   "metadata": {},
   "outputs": [
    {
     "data": {
      "text/plain": [
       "6"
      ]
     },
     "execution_count": 44,
     "metadata": {},
     "output_type": "execute_result"
    }
   ],
   "source": [
    "factorial(3)"
   ]
  },
  {
   "cell_type": "markdown",
   "id": "66f5e5de",
   "metadata": {},
   "source": [
    "#### 12.Implement a recursive function to compute the nth Fibonacci number."
   ]
  },
  {
   "cell_type": "markdown",
   "id": "d78b9f49",
   "metadata": {},
   "source": [
    "#### Answer:"
   ]
  },
  {
   "cell_type": "code",
   "execution_count": 47,
   "id": "f5b9ebec",
   "metadata": {},
   "outputs": [],
   "source": [
    "def fibonacci(n):\n",
    "    if n in (0,1):\n",
    "        return n\n",
    "    else:\n",
    "        return fibonacci(n-1)+fibonacci(n-2)"
   ]
  },
  {
   "cell_type": "code",
   "execution_count": 53,
   "id": "a4fc52e8",
   "metadata": {},
   "outputs": [
    {
     "data": {
      "text/plain": [
       "55"
      ]
     },
     "execution_count": 53,
     "metadata": {},
     "output_type": "execute_result"
    }
   ],
   "source": [
    "fibonacci(10)"
   ]
  },
  {
   "cell_type": "markdown",
   "id": "9e96c327",
   "metadata": {},
   "source": [
    "#### 13.Create a recursive function to find the sum of all the elements in a given list."
   ]
  },
  {
   "cell_type": "markdown",
   "id": "270c33de",
   "metadata": {},
   "source": [
    "#### Answer:"
   ]
  },
  {
   "cell_type": "code",
   "execution_count": 56,
   "id": "cb630005",
   "metadata": {},
   "outputs": [],
   "source": [
    "def rec_sum(l):\n",
    "    if not l:\n",
    "        return 0\n",
    "    else:\n",
    "        return l[0]+rec_sum(l[1:])"
   ]
  },
  {
   "cell_type": "code",
   "execution_count": 58,
   "id": "6c3e494b",
   "metadata": {},
   "outputs": [
    {
     "name": "stdout",
     "output_type": "stream",
     "text": [
      "The sum of the elements in the list is 15\n"
     ]
    }
   ],
   "source": [
    "num=[1,2,3,4,5]\n",
    "result=rec_sum(num)\n",
    "print(f'The sum of the elements in the list is {result}')"
   ]
  },
  {
   "cell_type": "markdown",
   "id": "9593b7e1",
   "metadata": {},
   "source": [
    "#### 14.Write a recursive function to determine whether a given string is a palindrome."
   ]
  },
  {
   "cell_type": "markdown",
   "id": "e721976d",
   "metadata": {},
   "source": [
    "#### Answer:"
   ]
  },
  {
   "cell_type": "code",
   "execution_count": 59,
   "id": "f8a6a166",
   "metadata": {},
   "outputs": [],
   "source": [
    "def is_palindrome(s):\n",
    "    if len(s)<=1:\n",
    "        return True\n",
    "    else:\n",
    "        return s[0]==s[-1] and is_palindrome(s[1:-1])"
   ]
  },
  {
   "cell_type": "code",
   "execution_count": 60,
   "id": "b7d7e526",
   "metadata": {},
   "outputs": [],
   "source": [
    "s1='radar'\n",
    "s2='hello'"
   ]
  },
  {
   "cell_type": "code",
   "execution_count": 62,
   "id": "e8687251",
   "metadata": {},
   "outputs": [
    {
     "name": "stdout",
     "output_type": "stream",
     "text": [
      "radar is a palindrome:True\n",
      "hello is a palindrome:False\n"
     ]
    }
   ],
   "source": [
    "print(f'{s1} is a palindrome:{is_palindrome(s1)}')\n",
    "print(f'{s2} is a palindrome:{is_palindrome(s2)}')"
   ]
  },
  {
   "cell_type": "code",
   "execution_count": 66,
   "id": "a87284f1",
   "metadata": {},
   "outputs": [
    {
     "data": {
      "text/plain": [
       "21"
      ]
     },
     "execution_count": 66,
     "metadata": {},
     "output_type": "execute_result"
    }
   ],
   "source": [
    "import math\n",
    "math.gcd(21,42,63)"
   ]
  },
  {
   "cell_type": "markdown",
   "id": "9a6df937",
   "metadata": {},
   "source": [
    "#### 15.Implement a recursive function to find the greatest common divisor (GCD) of two positive integers."
   ]
  },
  {
   "cell_type": "markdown",
   "id": "50e03a22",
   "metadata": {},
   "source": [
    "#### Answer:"
   ]
  },
  {
   "cell_type": "code",
   "execution_count": 67,
   "id": "05088a26",
   "metadata": {},
   "outputs": [],
   "source": [
    "def gcd(a,b):\n",
    "    \n",
    "    if b==0:\n",
    "        return a\n",
    "    else:\n",
    "        return gcd(b,a%b)"
   ]
  },
  {
   "cell_type": "code",
   "execution_count": 69,
   "id": "c67e4f94",
   "metadata": {},
   "outputs": [
    {
     "data": {
      "text/plain": [
       "6"
      ]
     },
     "execution_count": 69,
     "metadata": {},
     "output_type": "execute_result"
    }
   ],
   "source": [
    "gcd(12,18)"
   ]
  },
  {
   "cell_type": "code",
   "execution_count": null,
   "id": "5de870fa",
   "metadata": {},
   "outputs": [],
   "source": []
  }
 ],
 "metadata": {
  "kernelspec": {
   "display_name": "Python 3 (ipykernel)",
   "language": "python",
   "name": "python3"
  },
  "language_info": {
   "codemirror_mode": {
    "name": "ipython",
    "version": 3
   },
   "file_extension": ".py",
   "mimetype": "text/x-python",
   "name": "python",
   "nbconvert_exporter": "python",
   "pygments_lexer": "ipython3",
   "version": "3.10.9"
  }
 },
 "nbformat": 4,
 "nbformat_minor": 5
}
