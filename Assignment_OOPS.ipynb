{
 "cells": [
  {
   "cell_type": "markdown",
   "id": "92feb43e",
   "metadata": {},
   "source": [
    "### Assignments"
   ]
  },
  {
   "cell_type": "markdown",
   "id": "a25de87f",
   "metadata": {},
   "source": [
    "1. the Person class has a constructor that takes name and age as arguments and assigns them to the object's attributes. The introduce method is then invoked on the object to introduce the person.\n"
   ]
  },
  {
   "cell_type": "code",
   "execution_count": 1,
   "id": "ca903dbc",
   "metadata": {},
   "outputs": [],
   "source": [
    "class Person:\n",
    "    \n",
    "    def __init__(self,name,age):\n",
    "        self.name=name\n",
    "        self.age=age\n",
    "        \n",
    "    def introduce(self):\n",
    "        return f'I am {self.name} and my age is {self.age}'"
   ]
  },
  {
   "cell_type": "code",
   "execution_count": 2,
   "id": "31162e26",
   "metadata": {},
   "outputs": [],
   "source": [
    "p1=Person('Vijay',22)"
   ]
  },
  {
   "cell_type": "code",
   "execution_count": 3,
   "id": "38677d90",
   "metadata": {},
   "outputs": [
    {
     "data": {
      "text/plain": [
       "'I am Vijay and my age is 22'"
      ]
     },
     "execution_count": 3,
     "metadata": {},
     "output_type": "execute_result"
    }
   ],
   "source": [
    "p1.introduce()"
   ]
  },
  {
   "cell_type": "markdown",
   "id": "b095332d",
   "metadata": {},
   "source": [
    "2. the Car class has a constructor that takes brand and model as arguments and assigns them to the object's attributes. The display_info method is then invoked on the object to display the car's brand and model."
   ]
  },
  {
   "cell_type": "code",
   "execution_count": 4,
   "id": "1b018e18",
   "metadata": {},
   "outputs": [],
   "source": [
    "class Car:\n",
    "    \n",
    "    def __init__(self,brand,model):\n",
    "        self.brand=brand\n",
    "        self.model=model\n",
    "    \n",
    "    def display_info(self):\n",
    "        return f'Brand is {self.brand} and model is {self.model}'\n",
    "    \n",
    "    "
   ]
  },
  {
   "cell_type": "code",
   "execution_count": 5,
   "id": "d7739dd9",
   "metadata": {},
   "outputs": [],
   "source": [
    "c1=Car('BMW','EV')"
   ]
  },
  {
   "cell_type": "code",
   "execution_count": 7,
   "id": "70cbd6f4",
   "metadata": {},
   "outputs": [
    {
     "data": {
      "text/plain": [
       "'Brand is BMW and model is EV'"
      ]
     },
     "execution_count": 7,
     "metadata": {},
     "output_type": "execute_result"
    }
   ],
   "source": [
    "c1.display_info()"
   ]
  },
  {
   "cell_type": "markdown",
   "id": "60c0b7c7",
   "metadata": {},
   "source": [
    "3. the BankAccount class has a constructor that takes account_number and balance as arguments and assigns them to the object's attributes. The display_balance method is then invoked on the object to display the account number and balance."
   ]
  },
  {
   "cell_type": "code",
   "execution_count": 16,
   "id": "ff90f007",
   "metadata": {},
   "outputs": [],
   "source": [
    "class BankAccount:\n",
    "    \n",
    "    def __init__(self,account_number,balance=0):\n",
    "        self.account_number=account_number\n",
    "        self.balance=balance\n",
    "        \n",
    "    def display_balance(self):\n",
    "        return f'The Account Number is {self.account_number} and its balance is {self.balance}'\n",
    "            "
   ]
  },
  {
   "cell_type": "code",
   "execution_count": 18,
   "id": "8d57df24",
   "metadata": {},
   "outputs": [],
   "source": [
    "ba1=BankAccount(234567891,125)"
   ]
  },
  {
   "cell_type": "code",
   "execution_count": 19,
   "id": "0488b549",
   "metadata": {},
   "outputs": [
    {
     "data": {
      "text/plain": [
       "'The Account Number is 234567891 and its balance is 125'"
      ]
     },
     "execution_count": 19,
     "metadata": {},
     "output_type": "execute_result"
    }
   ],
   "source": [
    "ba1.display_balance()"
   ]
  },
  {
   "cell_type": "markdown",
   "id": "fe670a16",
   "metadata": {},
   "source": [
    "4. the MobilePhone class has a constructor that takes brand and model as arguments and assigns them to the object's attributes. The make_call method is then invoked on the object to make a call with the phone."
   ]
  },
  {
   "cell_type": "code",
   "execution_count": 20,
   "id": "0fa7ec91",
   "metadata": {},
   "outputs": [],
   "source": [
    "class MobilePhone:\n",
    "    \n",
    "    def __init__(self,brand,model):\n",
    "        self.brand=brand\n",
    "        self.model=model\n",
    "    \n",
    "    def make_call(self):\n",
    "        return f'call with {self.brand} and {self.model}'\n",
    "    "
   ]
  },
  {
   "cell_type": "code",
   "execution_count": 21,
   "id": "a1982d45",
   "metadata": {},
   "outputs": [],
   "source": [
    "mp1=MobilePhone('samsung','Note 3')"
   ]
  },
  {
   "cell_type": "code",
   "execution_count": 22,
   "id": "10769157",
   "metadata": {},
   "outputs": [
    {
     "data": {
      "text/plain": [
       "'call with samsung and Note 3'"
      ]
     },
     "execution_count": 22,
     "metadata": {},
     "output_type": "execute_result"
    }
   ],
   "source": [
    "mp1.make_call()"
   ]
  },
  {
   "cell_type": "markdown",
   "id": "da49536a",
   "metadata": {},
   "source": [
    "5. the Book class has a constructor that takes title and author as arguments and assigns them to the object's attributes. The display_info method is then invoked on the object to display the book's title and author."
   ]
  },
  {
   "cell_type": "code",
   "execution_count": 24,
   "id": "8f5343cc",
   "metadata": {},
   "outputs": [],
   "source": [
    "class Book:\n",
    "    \n",
    "    def __init__(self,title,author):\n",
    "        self.title=title\n",
    "        self.author=author\n",
    "    \n",
    "    def display_info(self):\n",
    "        return f'Title is {self.title} and author is {self.author}'"
   ]
  },
  {
   "cell_type": "code",
   "execution_count": 25,
   "id": "c1556497",
   "metadata": {},
   "outputs": [],
   "source": [
    "b1=Book('AI','Krish')"
   ]
  },
  {
   "cell_type": "code",
   "execution_count": 26,
   "id": "3bc321e4",
   "metadata": {},
   "outputs": [
    {
     "data": {
      "text/plain": [
       "'Title is AI and author is Krish'"
      ]
     },
     "execution_count": 26,
     "metadata": {},
     "output_type": "execute_result"
    }
   ],
   "source": [
    "b1.display_info()"
   ]
  },
  {
   "cell_type": "markdown",
   "id": "8027f684",
   "metadata": {},
   "source": [
    "6. Vehicles: Create a base class called Vehicle with attributes such as make, model, and year. Implement two subclasses Car and Motorcycle that inherit from Vehicle. Add additional methods to the subclasses, such as start_engine() and stop_engine(), and handle any specific behavior or rules for each vehicle type."
   ]
  },
  {
   "cell_type": "code",
   "execution_count": 28,
   "id": "cff69483",
   "metadata": {},
   "outputs": [],
   "source": [
    "class Vehicle:\n",
    "    \n",
    "    def __init__(self,make,model,year):\n",
    "        self.make=make\n",
    "        self.model=model\n",
    "        self.year=year    "
   ]
  },
  {
   "cell_type": "code",
   "execution_count": 30,
   "id": "ae8b71a9",
   "metadata": {},
   "outputs": [],
   "source": [
    "class Car(Vehicle):\n",
    "    \n",
    "    def start_engine(self):\n",
    "        return f'car {self.make} {self.model} started' \n",
    "    \n",
    "    def stop_engine(self):\n",
    "        return f'car {self.make} {self.model} stopped'"
   ]
  },
  {
   "cell_type": "code",
   "execution_count": 32,
   "id": "1d06960d",
   "metadata": {},
   "outputs": [],
   "source": [
    "class MotorCycle(Vehicle):\n",
    "    \n",
    "    def start_engine(self):\n",
    "        return f'Motor cycle {self.make} {self.model} started'\n",
    "    \n",
    "    def stop_engine(self):\n",
    "        return f'Motor cycle {self.make} {self.model} stopped'\n",
    "    "
   ]
  },
  {
   "cell_type": "code",
   "execution_count": 33,
   "id": "febca5fc",
   "metadata": {},
   "outputs": [],
   "source": [
    "c1=Car('BMW','EV',2022)"
   ]
  },
  {
   "cell_type": "code",
   "execution_count": 34,
   "id": "117bdc54",
   "metadata": {},
   "outputs": [
    {
     "data": {
      "text/plain": [
       "'car BMW EV started'"
      ]
     },
     "execution_count": 34,
     "metadata": {},
     "output_type": "execute_result"
    }
   ],
   "source": [
    "c1.start_engine()"
   ]
  },
  {
   "cell_type": "code",
   "execution_count": 35,
   "id": "eff4e7bc",
   "metadata": {},
   "outputs": [
    {
     "data": {
      "text/plain": [
       "'car BMW EV stopped'"
      ]
     },
     "execution_count": 35,
     "metadata": {},
     "output_type": "execute_result"
    }
   ],
   "source": [
    "c1.stop_engine()"
   ]
  },
  {
   "cell_type": "code",
   "execution_count": 36,
   "id": "16d8cbf6",
   "metadata": {},
   "outputs": [],
   "source": [
    "mc1=MotorCycle('Hero','gear',2023)"
   ]
  },
  {
   "cell_type": "code",
   "execution_count": 37,
   "id": "4cd7e198",
   "metadata": {},
   "outputs": [
    {
     "data": {
      "text/plain": [
       "'Motor cycle Hero gear started'"
      ]
     },
     "execution_count": 37,
     "metadata": {},
     "output_type": "execute_result"
    }
   ],
   "source": [
    "mc1.start_engine()"
   ]
  },
  {
   "cell_type": "code",
   "execution_count": 38,
   "id": "d7ca0de7",
   "metadata": {},
   "outputs": [
    {
     "data": {
      "text/plain": [
       "'Motor cycle Hero gear stopped'"
      ]
     },
     "execution_count": 38,
     "metadata": {},
     "output_type": "execute_result"
    }
   ],
   "source": [
    "mc1.stop_engine()"
   ]
  },
  {
   "cell_type": "markdown",
   "id": "6df51be5",
   "metadata": {},
   "source": [
    "7. Animals: Create a base class called Animal with methods such as eat() and sleep(). Implement two subclasses Dog and Cat that inherit from Animal. Add additional methods to the subclasses, such as bark() for dogs and meow() for cats, and handle any specific behavior or rules for each animal type."
   ]
  },
  {
   "cell_type": "code",
   "execution_count": 44,
   "id": "53ebb997",
   "metadata": {},
   "outputs": [],
   "source": [
    "class Animal:\n",
    "    \n",
    "    def __init__(self,name):\n",
    "        self.name=name\n",
    "    \n",
    "    def eat(self):\n",
    "        return 'Animal eats'\n",
    "    \n",
    "    def sleep(self):\n",
    "        return 'Animal sleeps'"
   ]
  },
  {
   "cell_type": "code",
   "execution_count": 45,
   "id": "a103d88c",
   "metadata": {},
   "outputs": [],
   "source": [
    "class Dog(Animal):\n",
    "    \n",
    "    def bark(self):\n",
    "        return f'{self.name} says woof !'\n",
    "        "
   ]
  },
  {
   "cell_type": "code",
   "execution_count": 46,
   "id": "aa62362f",
   "metadata": {},
   "outputs": [],
   "source": [
    "class Cat(Animal):\n",
    "    \n",
    "    def meow(self):\n",
    "        return f'{self.name} says meow !'"
   ]
  },
  {
   "cell_type": "code",
   "execution_count": 47,
   "id": "90baf128",
   "metadata": {},
   "outputs": [],
   "source": [
    "d1=Dog('max')"
   ]
  },
  {
   "cell_type": "code",
   "execution_count": 48,
   "id": "8d2557c3",
   "metadata": {},
   "outputs": [
    {
     "data": {
      "text/plain": [
       "'max says woof !'"
      ]
     },
     "execution_count": 48,
     "metadata": {},
     "output_type": "execute_result"
    }
   ],
   "source": [
    "d1.bark()"
   ]
  },
  {
   "cell_type": "code",
   "execution_count": 49,
   "id": "f77d8557",
   "metadata": {},
   "outputs": [],
   "source": [
    "c1=Cat('tom')"
   ]
  },
  {
   "cell_type": "code",
   "execution_count": 50,
   "id": "5be3c278",
   "metadata": {},
   "outputs": [
    {
     "data": {
      "text/plain": [
       "'tom says meow !'"
      ]
     },
     "execution_count": 50,
     "metadata": {},
     "output_type": "execute_result"
    }
   ],
   "source": [
    "c1.meow()"
   ]
  },
  {
   "cell_type": "markdown",
   "id": "0f552bfc",
   "metadata": {},
   "source": [
    "8. Create a base class called LibraryItem with attributes such as title, author, and publication_year. Implement two subclasses Book and Magazine that inherit from LibraryItem. Add additional methods to the subclasses, such as checkout() and return_item(), and handle any specific behavior or rules for each item type."
   ]
  },
  {
   "cell_type": "code",
   "execution_count": 55,
   "id": "43cc7c5d",
   "metadata": {},
   "outputs": [],
   "source": [
    "class LibraryItem:\n",
    "    \n",
    "    def __init__(self,title,author,publication_year):\n",
    "        self.title=title\n",
    "        self.author=author\n",
    "        self.publication_year=publication_year"
   ]
  },
  {
   "cell_type": "code",
   "execution_count": 56,
   "id": "2345cc39",
   "metadata": {},
   "outputs": [],
   "source": [
    "class Book(LibraryItem):\n",
    "    \n",
    "    def checkout(self):\n",
    "        return f'Title:{self.title}, Author:{self.author} and Publication Year:{self.publication_year} was checkout'\n",
    "    \n",
    "    def return_item(self):\n",
    "        return f'Title:{self.title}, Author:{self.author} and Publication Year:{self.publication_year} was returned'"
   ]
  },
  {
   "cell_type": "code",
   "execution_count": 57,
   "id": "257b567e",
   "metadata": {},
   "outputs": [],
   "source": [
    "class Magazine(LibraryItem):\n",
    "    \n",
    "    def checkout(self):\n",
    "        return f'Title:{self.title},Author:{self.author} and Publication year:{self.publication_year} was checkout'\n",
    "    \n",
    "    def return_item(self):\n",
    "        return f'Title:{self.title},Author:{self.author} and publication year:{self.publication_year} was returned'"
   ]
  },
  {
   "cell_type": "code",
   "execution_count": 58,
   "id": "cbfdc170",
   "metadata": {},
   "outputs": [],
   "source": [
    "b1=Book('AI','Krish Naik',2023)"
   ]
  },
  {
   "cell_type": "code",
   "execution_count": 59,
   "id": "b4158195",
   "metadata": {},
   "outputs": [
    {
     "data": {
      "text/plain": [
       "'Title:AI, Author:Krish Naik and Publication Year:2023 was checkout'"
      ]
     },
     "execution_count": 59,
     "metadata": {},
     "output_type": "execute_result"
    }
   ],
   "source": [
    "b1.checkout()"
   ]
  },
  {
   "cell_type": "code",
   "execution_count": 60,
   "id": "d41126c1",
   "metadata": {},
   "outputs": [
    {
     "data": {
      "text/plain": [
       "'Title:AI, Author:Krish Naik and Publication Year:2023 was returned'"
      ]
     },
     "execution_count": 60,
     "metadata": {},
     "output_type": "execute_result"
    }
   ],
   "source": [
    "b1.return_item()"
   ]
  },
  {
   "cell_type": "code",
   "execution_count": 63,
   "id": "4952fafe",
   "metadata": {},
   "outputs": [],
   "source": [
    "m1=Magazine('Times of India','Krish',2023)"
   ]
  },
  {
   "cell_type": "code",
   "execution_count": 64,
   "id": "c333817a",
   "metadata": {},
   "outputs": [
    {
     "data": {
      "text/plain": [
       "'Title:Times of India,Author:Krish and Publication year:2023 was checkout'"
      ]
     },
     "execution_count": 64,
     "metadata": {},
     "output_type": "execute_result"
    }
   ],
   "source": [
    "m1.checkout()"
   ]
  },
  {
   "cell_type": "code",
   "execution_count": 66,
   "id": "b7a2dba1",
   "metadata": {},
   "outputs": [
    {
     "data": {
      "text/plain": [
       "'Title:Times of India,Author:Krish and publication year:2023 was returned'"
      ]
     },
     "execution_count": 66,
     "metadata": {},
     "output_type": "execute_result"
    }
   ],
   "source": [
    "m1.return_item()"
   ]
  },
  {
   "cell_type": "markdown",
   "id": "2d92ab1d",
   "metadata": {},
   "source": [
    "9. Employees and Departments: Create a base class called Employee with attributes such as name, salary, and department. Implement two subclasses Manager and Staff that inherit from Employee. Add additional methods to the subclasses, such as assign_task() for managers and attend_meeting() for staff members. Create a separate class called Department that contains a list of employees and methods to add or remove employees from the department."
   ]
  },
  {
   "cell_type": "code",
   "execution_count": 67,
   "id": "18f3d21c",
   "metadata": {},
   "outputs": [],
   "source": [
    "class Employee:\n",
    "    \n",
    "    def __init__(self,name,salary,department):\n",
    "        self.name=name\n",
    "        self.salary=salary\n",
    "        self.department=department"
   ]
  },
  {
   "cell_type": "code",
   "execution_count": 98,
   "id": "dba4b073",
   "metadata": {},
   "outputs": [],
   "source": [
    "class Manager(Employee):\n",
    "    \n",
    "    def assign_task(self,task,staff):\n",
    "        return f'Anu assigned the {task} task to {staff}'\n",
    "    "
   ]
  },
  {
   "cell_type": "code",
   "execution_count": 99,
   "id": "a242793d",
   "metadata": {},
   "outputs": [],
   "source": [
    "class Staff(Employee):\n",
    "    \n",
    "    def attend_meeting(self,time):\n",
    "        return f'{self.name} attend meeting at {time}'\n",
    "        "
   ]
  },
  {
   "cell_type": "code",
   "execution_count": 100,
   "id": "5967d756",
   "metadata": {},
   "outputs": [],
   "source": [
    "m1=Manager('Anu',1250,'Accounts')"
   ]
  },
  {
   "cell_type": "code",
   "execution_count": 101,
   "id": "1bb81f09",
   "metadata": {},
   "outputs": [
    {
     "data": {
      "text/plain": [
       "'Anu assigned the payroll process task to Kananan'"
      ]
     },
     "execution_count": 101,
     "metadata": {},
     "output_type": "execute_result"
    }
   ],
   "source": [
    "m1.assign_task('payroll process','Kananan')"
   ]
  },
  {
   "cell_type": "code",
   "execution_count": 102,
   "id": "8a0f9bc8",
   "metadata": {},
   "outputs": [],
   "source": [
    "s1=Staff('Kananan',300,'Staff')"
   ]
  },
  {
   "cell_type": "code",
   "execution_count": 105,
   "id": "30a43718",
   "metadata": {},
   "outputs": [
    {
     "data": {
      "text/plain": [
       "'Kananan attend meeting at 06-JUL-2023 10:00 AM'"
      ]
     },
     "execution_count": 105,
     "metadata": {},
     "output_type": "execute_result"
    }
   ],
   "source": [
    "s1.attend_meeting('06-JUL-2023 10:00 AM')"
   ]
  },
  {
   "cell_type": "code",
   "execution_count": 84,
   "id": "5a0cf1a0",
   "metadata": {},
   "outputs": [],
   "source": [
    "class Department:\n",
    "    \n",
    "    def __init__(self,name):\n",
    "        self.department=name\n",
    "        self.employees_list=list()\n",
    "        \n",
    "    def add_employee(self,name):\n",
    "        self.employees_list.append(name)\n",
    "        return f'Employee {name} was added'\n",
    "        \n",
    "    def remove_employee(self,name):\n",
    "        if name in self.employees_list:\n",
    "            self.employees_list.remove(name)\n",
    "            return f'Employee {name} was removed'\n",
    "        else:\n",
    "            return f'Employee {name} was not found'"
   ]
  },
  {
   "cell_type": "code",
   "execution_count": 85,
   "id": "19e95d61",
   "metadata": {},
   "outputs": [],
   "source": [
    "d1=Department('Accounts')"
   ]
  },
  {
   "cell_type": "code",
   "execution_count": 86,
   "id": "5827a0dc",
   "metadata": {},
   "outputs": [
    {
     "data": {
      "text/plain": [
       "[]"
      ]
     },
     "execution_count": 86,
     "metadata": {},
     "output_type": "execute_result"
    }
   ],
   "source": [
    "d1.employees_list"
   ]
  },
  {
   "cell_type": "code",
   "execution_count": 87,
   "id": "2d3913c4",
   "metadata": {},
   "outputs": [
    {
     "data": {
      "text/plain": [
       "'Employee Vijay was added'"
      ]
     },
     "execution_count": 87,
     "metadata": {},
     "output_type": "execute_result"
    }
   ],
   "source": [
    "d1.add_employee('Vijay')"
   ]
  },
  {
   "cell_type": "code",
   "execution_count": 88,
   "id": "8717b6bc",
   "metadata": {},
   "outputs": [
    {
     "data": {
      "text/plain": [
       "'Employee Ajith was added'"
      ]
     },
     "execution_count": 88,
     "metadata": {},
     "output_type": "execute_result"
    }
   ],
   "source": [
    "d1.add_employee('Ajith')"
   ]
  },
  {
   "cell_type": "code",
   "execution_count": 89,
   "id": "c7f1d490",
   "metadata": {},
   "outputs": [
    {
     "data": {
      "text/plain": [
       "['Vijay', 'Ajith']"
      ]
     },
     "execution_count": 89,
     "metadata": {},
     "output_type": "execute_result"
    }
   ],
   "source": [
    "d1.employees_list"
   ]
  },
  {
   "cell_type": "code",
   "execution_count": 90,
   "id": "67e110e2",
   "metadata": {},
   "outputs": [
    {
     "data": {
      "text/plain": [
       "'Employee Vijay was removed'"
      ]
     },
     "execution_count": 90,
     "metadata": {},
     "output_type": "execute_result"
    }
   ],
   "source": [
    "d1.remove_employee('Vijay')"
   ]
  },
  {
   "cell_type": "code",
   "execution_count": 91,
   "id": "f88b2c8b",
   "metadata": {},
   "outputs": [
    {
     "data": {
      "text/plain": [
       "['Ajith']"
      ]
     },
     "execution_count": 91,
     "metadata": {},
     "output_type": "execute_result"
    }
   ],
   "source": [
    "d1.employees_list"
   ]
  },
  {
   "cell_type": "markdown",
   "id": "3e6bf89a",
   "metadata": {},
   "source": [
    "10. Bank Transactions: Create a base class called BankAccount with attributes such as account_number and balance. Implement subclasses for different types of accounts such as CheckingAccount and SavingsAccount that inherit from BankAccount. Add additional methods to the subclasses, such as withdraw() and deposit(), and handle any specific behavior or rules for each account type."
   ]
  },
  {
   "cell_type": "code",
   "execution_count": 106,
   "id": "53e6e7f1",
   "metadata": {},
   "outputs": [],
   "source": [
    "class BankAccount:\n",
    "    \n",
    "    def __init__(self,account_number,balance):\n",
    "        self.account_number=account_number\n",
    "        self.balance=balance"
   ]
  },
  {
   "cell_type": "code",
   "execution_count": 107,
   "id": "ea5e193e",
   "metadata": {},
   "outputs": [],
   "source": [
    "class CheckingAccount(BankAccount):\n",
    "    \n",
    "    def deposit(self,amount):\n",
    "        self.balance+=amount\n",
    "        \n",
    "    def withdraw(self,amount):\n",
    "        self.balance-=amount"
   ]
  },
  {
   "cell_type": "code",
   "execution_count": 108,
   "id": "b7fec4ae",
   "metadata": {},
   "outputs": [],
   "source": [
    "class SavingsAccount(BankAccount):\n",
    "    \n",
    "    def deposit(self,amount):\n",
    "        self.balance+=amount\n",
    "        \n",
    "    def withdraw(self,amount):\n",
    "        self.balance-=amount"
   ]
  },
  {
   "cell_type": "code",
   "execution_count": 112,
   "id": "1ab86502",
   "metadata": {},
   "outputs": [],
   "source": [
    "c1=CheckingAccount(2341567891,0)"
   ]
  },
  {
   "cell_type": "code",
   "execution_count": 113,
   "id": "e1564e0a",
   "metadata": {},
   "outputs": [
    {
     "data": {
      "text/plain": [
       "2341567891"
      ]
     },
     "execution_count": 113,
     "metadata": {},
     "output_type": "execute_result"
    }
   ],
   "source": [
    "c1.account_number"
   ]
  },
  {
   "cell_type": "code",
   "execution_count": 114,
   "id": "e2f96727",
   "metadata": {},
   "outputs": [
    {
     "data": {
      "text/plain": [
       "0"
      ]
     },
     "execution_count": 114,
     "metadata": {},
     "output_type": "execute_result"
    }
   ],
   "source": [
    "c1.balance"
   ]
  },
  {
   "cell_type": "code",
   "execution_count": 115,
   "id": "33ae39cd",
   "metadata": {},
   "outputs": [],
   "source": [
    "c1.deposit(100)"
   ]
  },
  {
   "cell_type": "code",
   "execution_count": 116,
   "id": "063bf8b4",
   "metadata": {},
   "outputs": [
    {
     "data": {
      "text/plain": [
       "100"
      ]
     },
     "execution_count": 116,
     "metadata": {},
     "output_type": "execute_result"
    }
   ],
   "source": [
    "c1.balance"
   ]
  },
  {
   "cell_type": "code",
   "execution_count": 117,
   "id": "0bd395d9",
   "metadata": {},
   "outputs": [],
   "source": [
    "c1.withdraw(99)"
   ]
  },
  {
   "cell_type": "code",
   "execution_count": 118,
   "id": "8c505116",
   "metadata": {},
   "outputs": [
    {
     "data": {
      "text/plain": [
       "1"
      ]
     },
     "execution_count": 118,
     "metadata": {},
     "output_type": "execute_result"
    }
   ],
   "source": [
    "c1.balance"
   ]
  },
  {
   "cell_type": "code",
   "execution_count": 119,
   "id": "55192e2e",
   "metadata": {},
   "outputs": [],
   "source": [
    "s1=SavingsAccount(2345167892,0)"
   ]
  },
  {
   "cell_type": "code",
   "execution_count": 120,
   "id": "844856c4",
   "metadata": {},
   "outputs": [
    {
     "data": {
      "text/plain": [
       "2345167892"
      ]
     },
     "execution_count": 120,
     "metadata": {},
     "output_type": "execute_result"
    }
   ],
   "source": [
    "s1.account_number"
   ]
  },
  {
   "cell_type": "code",
   "execution_count": 121,
   "id": "78972a36",
   "metadata": {},
   "outputs": [
    {
     "data": {
      "text/plain": [
       "0"
      ]
     },
     "execution_count": 121,
     "metadata": {},
     "output_type": "execute_result"
    }
   ],
   "source": [
    "s1.balance"
   ]
  },
  {
   "cell_type": "code",
   "execution_count": 122,
   "id": "966dce9a",
   "metadata": {},
   "outputs": [],
   "source": [
    "s1.deposit(100)"
   ]
  },
  {
   "cell_type": "code",
   "execution_count": 123,
   "id": "daae0560",
   "metadata": {},
   "outputs": [
    {
     "data": {
      "text/plain": [
       "100"
      ]
     },
     "execution_count": 123,
     "metadata": {},
     "output_type": "execute_result"
    }
   ],
   "source": [
    "s1.balance"
   ]
  },
  {
   "cell_type": "code",
   "execution_count": 124,
   "id": "402f7a13",
   "metadata": {},
   "outputs": [],
   "source": [
    "s1.withdraw(75)"
   ]
  },
  {
   "cell_type": "code",
   "execution_count": 125,
   "id": "46e31a19",
   "metadata": {},
   "outputs": [
    {
     "data": {
      "text/plain": [
       "25"
      ]
     },
     "execution_count": 125,
     "metadata": {},
     "output_type": "execute_result"
    }
   ],
   "source": [
    "s1.balance"
   ]
  },
  {
   "cell_type": "markdown",
   "id": "1ac139a8",
   "metadata": {},
   "source": [
    "11. School Management System: Create a base class called Person with attributes such as name, age, and address. Implement subclasses for different roles such as Student, Teacher, and Staff that inherit from Person. Add additional methods to the subclasses, such as take_exam() for students and teach_subject() for teachers.\n"
   ]
  },
  {
   "cell_type": "code",
   "execution_count": 126,
   "id": "38c4cc7f",
   "metadata": {},
   "outputs": [],
   "source": [
    "class Person:\n",
    "    \n",
    "    def __init__(self,name,age,address):\n",
    "        self.name=name\n",
    "        self.age=age\n",
    "        self.address=address "
   ]
  },
  {
   "cell_type": "code",
   "execution_count": 127,
   "id": "f25ac63c",
   "metadata": {},
   "outputs": [],
   "source": [
    "class Student(Person):\n",
    "    \n",
    "    def take_exam(self,subject):\n",
    "        return f'{self.name} take {subject} exam'"
   ]
  },
  {
   "cell_type": "code",
   "execution_count": 128,
   "id": "a481e27b",
   "metadata": {},
   "outputs": [],
   "source": [
    "class Teacher(Person):\n",
    "    \n",
    "    def teach_subject(self,subject):\n",
    "        return f'{self.name} teach {subject} subject'"
   ]
  },
  {
   "cell_type": "code",
   "execution_count": 129,
   "id": "68940826",
   "metadata": {},
   "outputs": [],
   "source": [
    "class Staff(Person):\n",
    "    pass"
   ]
  },
  {
   "cell_type": "code",
   "execution_count": 130,
   "id": "fa7a0eb6",
   "metadata": {},
   "outputs": [],
   "source": [
    "s1=Student('Vijay',22,'Anna Nagar chennai')"
   ]
  },
  {
   "cell_type": "code",
   "execution_count": 131,
   "id": "96a5d11f",
   "metadata": {},
   "outputs": [
    {
     "data": {
      "text/plain": [
       "'Vijay take English exam'"
      ]
     },
     "execution_count": 131,
     "metadata": {},
     "output_type": "execute_result"
    }
   ],
   "source": [
    "s1.take_exam('English')"
   ]
  },
  {
   "cell_type": "code",
   "execution_count": 132,
   "id": "168aceab",
   "metadata": {},
   "outputs": [],
   "source": [
    "t1=Teacher('Anu',26,'Anna Nagar Chennai Tamil Nadu')"
   ]
  },
  {
   "cell_type": "code",
   "execution_count": 133,
   "id": "dc4d8552",
   "metadata": {},
   "outputs": [
    {
     "data": {
      "text/plain": [
       "'Anu'"
      ]
     },
     "execution_count": 133,
     "metadata": {},
     "output_type": "execute_result"
    }
   ],
   "source": [
    "t1.name"
   ]
  },
  {
   "cell_type": "code",
   "execution_count": 134,
   "id": "e6705866",
   "metadata": {},
   "outputs": [
    {
     "data": {
      "text/plain": [
       "26"
      ]
     },
     "execution_count": 134,
     "metadata": {},
     "output_type": "execute_result"
    }
   ],
   "source": [
    "t1.age"
   ]
  },
  {
   "cell_type": "code",
   "execution_count": 135,
   "id": "cb688f4e",
   "metadata": {},
   "outputs": [
    {
     "data": {
      "text/plain": [
       "'Anna Nagar Chennai Tamil Nadu'"
      ]
     },
     "execution_count": 135,
     "metadata": {},
     "output_type": "execute_result"
    }
   ],
   "source": [
    "t1.address"
   ]
  },
  {
   "cell_type": "code",
   "execution_count": 136,
   "id": "5711a561",
   "metadata": {},
   "outputs": [
    {
     "data": {
      "text/plain": [
       "'Anu teach Maths subject'"
      ]
     },
     "execution_count": 136,
     "metadata": {},
     "output_type": "execute_result"
    }
   ],
   "source": [
    "t1.teach_subject('Maths')"
   ]
  },
  {
   "cell_type": "code",
   "execution_count": null,
   "id": "e7e057a7",
   "metadata": {},
   "outputs": [],
   "source": []
  }
 ],
 "metadata": {
  "kernelspec": {
   "display_name": "Python 3 (ipykernel)",
   "language": "python",
   "name": "python3"
  },
  "language_info": {
   "codemirror_mode": {
    "name": "ipython",
    "version": 3
   },
   "file_extension": ".py",
   "mimetype": "text/x-python",
   "name": "python",
   "nbconvert_exporter": "python",
   "pygments_lexer": "ipython3",
   "version": "3.10.9"
  }
 },
 "nbformat": 4,
 "nbformat_minor": 5
}
