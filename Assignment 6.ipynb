{
 "cells": [
  {
   "cell_type": "markdown",
   "id": "81595490",
   "metadata": {},
   "source": [
    "### Assignment -6"
   ]
  },
  {
   "cell_type": "markdown",
   "id": "e0f908d8",
   "metadata": {},
   "source": [
    "#### 1. What are keywords in python? Using the keyword library, print all the python keywords."
   ]
  },
  {
   "cell_type": "markdown",
   "id": "c29a1e42",
   "metadata": {},
   "source": [
    "#### Answer:"
   ]
  },
  {
   "cell_type": "markdown",
   "id": "6ad43a61",
   "metadata": {},
   "source": [
    "Keywords in python are reserved words that can not be used as a variable name,function name or any other identifier."
   ]
  },
  {
   "cell_type": "code",
   "execution_count": 2,
   "id": "e04456b4",
   "metadata": {},
   "outputs": [
    {
     "name": "stdout",
     "output_type": "stream",
     "text": [
      "['False', 'None', 'True', 'and', 'as', 'assert', 'async', 'await', 'break', 'class', 'continue', 'def', 'del', 'elif', 'else', 'except', 'finally', 'for', 'from', 'global', 'if', 'import', 'in', 'is', 'lambda', 'nonlocal', 'not', 'or', 'pass', 'raise', 'return', 'try', 'while', 'with', 'yield']\n"
     ]
    }
   ],
   "source": [
    "import keyword\n",
    "\n",
    "print(keyword.kwlist)"
   ]
  },
  {
   "cell_type": "code",
   "execution_count": 3,
   "id": "d75c7751",
   "metadata": {},
   "outputs": [
    {
     "name": "stdout",
     "output_type": "stream",
     "text": [
      "\n",
      "Here is a list of the Python keywords.  Enter any keyword to get more help.\n",
      "\n",
      "False               class               from                or\n",
      "None                continue            global              pass\n",
      "True                def                 if                  raise\n",
      "and                 del                 import              return\n",
      "as                  elif                in                  try\n",
      "assert              else                is                  while\n",
      "async               except              lambda              with\n",
      "await               finally             nonlocal            yield\n",
      "break               for                 not                 \n",
      "\n"
     ]
    }
   ],
   "source": [
    "help('keywords')"
   ]
  },
  {
   "cell_type": "markdown",
   "id": "cbfc6cf5",
   "metadata": {},
   "source": [
    "#### 2. What are the rules to create variables in python?"
   ]
  },
  {
   "cell_type": "markdown",
   "id": "606b2dff",
   "metadata": {},
   "source": [
    "#### Answer:"
   ]
  },
  {
   "cell_type": "markdown",
   "id": "c44c3447",
   "metadata": {},
   "source": [
    "Rules to create variables in python"
   ]
  },
  {
   "cell_type": "markdown",
   "id": "1090b732",
   "metadata": {},
   "source": [
    "1. variable name will not start with a number.\n",
    "\n",
    "2. No whitespaces in a variable name,use '_' instead.\n",
    "\n",
    "3. Variable names are case-sensitive.\n",
    "   \n",
    "   eg: name, Name, NAME\n",
    "\n",
    "4. Do not use below symbols in variable names\n",
    "   \n",
    "   eg: !@#$%^&*(){}[]?/<>"
   ]
  },
  {
   "cell_type": "markdown",
   "id": "5cce30b5",
   "metadata": {},
   "source": [
    "#### 3.What are the standards and conventions followed for the nomenclature of variables in python to improve code readability and maintainability?"
   ]
  },
  {
   "cell_type": "markdown",
   "id": "9f69c81d",
   "metadata": {},
   "source": [
    "#### Answer:"
   ]
  },
  {
   "cell_type": "markdown",
   "id": "27d55518",
   "metadata": {},
   "source": [
    "- variable name will not start with a number.\n",
    "- They must start with a letter or the underscore character, but not with a digit.\n",
    "\n",
    "Best Practices:\n",
    "1. Always define a variable name in lowercase.\n",
    "2. Avoid using words that have special meaning.\n",
    "   eg: str,list"
   ]
  },
  {
   "cell_type": "markdown",
   "id": "fa9bab33",
   "metadata": {},
   "source": [
    "#### 4. What will happen if a keyword is used as a variable name?"
   ]
  },
  {
   "cell_type": "markdown",
   "id": "9f981678",
   "metadata": {},
   "source": [
    "#### Answer:"
   ]
  },
  {
   "cell_type": "markdown",
   "id": "6050bc45",
   "metadata": {},
   "source": [
    "- We cannot use a keyword as a variable name,function name or any other identifier in python."
   ]
  },
  {
   "cell_type": "markdown",
   "id": "ac7884ba",
   "metadata": {},
   "source": [
    "#### 5.For what purpose def keyword is used?"
   ]
  },
  {
   "cell_type": "markdown",
   "id": "7c0ed5a3",
   "metadata": {},
   "source": [
    "#### Answer:"
   ]
  },
  {
   "cell_type": "markdown",
   "id": "103ace37",
   "metadata": {},
   "source": [
    "- 'def' keyword is used to create,(or define) a function."
   ]
  },
  {
   "cell_type": "markdown",
   "id": "9d1d99c9",
   "metadata": {},
   "source": [
    "#### 6. What is the operation of this special character ‘\\’?"
   ]
  },
  {
   "cell_type": "markdown",
   "id": "0311048e",
   "metadata": {},
   "source": [
    "#### Answer:"
   ]
  },
  {
   "cell_type": "markdown",
   "id": "aa1d4f12",
   "metadata": {},
   "source": [
    "- In python strings, the backslash '\\' is a special character, also called the escape character.\n",
    "- It is used in representing certain whitespace characters:\n",
    "    - '\\t' is a tab\n",
    "    - '\\n' is a newline\n",
    "    - '\\r' is a carriage return"
   ]
  },
  {
   "cell_type": "markdown",
   "id": "d898a466",
   "metadata": {},
   "source": [
    "#### 7. Give an example of the following conditions:(i) Homogeneous list (ii) Heterogeneous set (iii) Homogeneous tuple"
   ]
  },
  {
   "cell_type": "markdown",
   "id": "2bbcc003",
   "metadata": {},
   "source": [
    "#### Answer:"
   ]
  },
  {
   "cell_type": "code",
   "execution_count": 9,
   "id": "66e79639",
   "metadata": {},
   "outputs": [],
   "source": [
    "l=[1,2,3,4,5,6] # Homogenous list\n",
    "s={1,2.5,'hello',(1,2,3),True} # heterogenous set\n",
    "t=(1,2,3,4,5,6) # homogenous tuple"
   ]
  },
  {
   "cell_type": "markdown",
   "id": "8ad681ea",
   "metadata": {},
   "source": [
    "#### 8.Explain the mutable and immutable data types with proper explanation & examples."
   ]
  },
  {
   "cell_type": "markdown",
   "id": "19be9ecd",
   "metadata": {},
   "source": [
    "#### Answer:"
   ]
  },
  {
   "cell_type": "code",
   "execution_count": null,
   "id": "35c51dd9",
   "metadata": {},
   "outputs": [],
   "source": [
    "### Mutable objects:\n",
    "\n",
    "- A mutable object can be changed after it is created.\n",
    "- eg: List, Dictionary, set"
   ]
  },
  {
   "cell_type": "code",
   "execution_count": null,
   "id": "b02917d9",
   "metadata": {},
   "outputs": [],
   "source": [
    "### Immutable Objects:\n",
    "\n",
    "- An immutable object cannot be changed after it is created.\n",
    "- eg: str,tuple"
   ]
  },
  {
   "cell_type": "markdown",
   "id": "cca965bc",
   "metadata": {},
   "source": [
    "#### 9. Write a code to create the given structure using only for loop.\n",
    "       *\n",
    "      ***\n",
    "     *****\n",
    "    *******\n",
    "   *********"
   ]
  },
  {
   "cell_type": "markdown",
   "id": "228e5cee",
   "metadata": {},
   "source": [
    "#### Answer:"
   ]
  },
  {
   "cell_type": "code",
   "execution_count": 24,
   "id": "4842c970",
   "metadata": {},
   "outputs": [
    {
     "name": "stdout",
     "output_type": "stream",
     "text": [
      "    *\n",
      "   ***\n",
      "  *****\n",
      " *******\n",
      "*********\n"
     ]
    }
   ],
   "source": [
    "n = 5\n",
    "for i in range(1, n+1):\n",
    "    for j in range(n - i):\n",
    "        print(' ', end='')\n",
    "    for k in range(2 * i - 1):\n",
    "        print('*', end='')\n",
    "    print()  "
   ]
  },
  {
   "cell_type": "markdown",
   "id": "e9d64ea7",
   "metadata": {},
   "source": [
    "#### 10. Write a code to create the given structure using while loop.\n",
    "|||||||||\n",
    "\n",
    "|||||||\n",
    "\n",
    "|||||\n",
    "\n",
    "|||\n",
    "\n",
    "|"
   ]
  },
  {
   "cell_type": "markdown",
   "id": "1973f78b",
   "metadata": {},
   "source": [
    "#### Answer:"
   ]
  },
  {
   "cell_type": "code",
   "execution_count": 28,
   "id": "6915798c",
   "metadata": {},
   "outputs": [
    {
     "name": "stdout",
     "output_type": "stream",
     "text": [
      "|||||||||\n",
      " |||||||\n",
      "  |||||\n",
      "   |||\n",
      "    |\n"
     ]
    }
   ],
   "source": [
    "n = 5\n",
    "\n",
    "for i in range(1, n+1):\n",
    "    # printing spaces\n",
    "    for j in range(i-1):\n",
    "        print(' ', end='')\n",
    "    # printing stars\n",
    "    for j in range(2*(n-i)+1):\n",
    "        print('|',end='')\n",
    "    print()"
   ]
  },
  {
   "cell_type": "code",
   "execution_count": null,
   "id": "985a1e02",
   "metadata": {},
   "outputs": [],
   "source": []
  }
 ],
 "metadata": {
  "kernelspec": {
   "display_name": "Python 3 (ipykernel)",
   "language": "python",
   "name": "python3"
  },
  "language_info": {
   "codemirror_mode": {
    "name": "ipython",
    "version": 3
   },
   "file_extension": ".py",
   "mimetype": "text/x-python",
   "name": "python",
   "nbconvert_exporter": "python",
   "pygments_lexer": "ipython3",
   "version": "3.10.9"
  }
 },
 "nbformat": 4,
 "nbformat_minor": 5
}
